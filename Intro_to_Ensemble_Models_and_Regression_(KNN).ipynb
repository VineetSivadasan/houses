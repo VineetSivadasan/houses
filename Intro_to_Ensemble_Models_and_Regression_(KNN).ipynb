{
  "nbformat": 4,
  "nbformat_minor": 0,
  "metadata": {
    "colab": {
      "name": "Intro_to_Ensemble_Models_and_Regression_(KNN).ipynb",
      "provenance": [],
      "collapsed_sections": [],
      "mount_file_id": "14vA20Mi-kWO7h2DTYX4w5wbH7SMrmDir",
      "authorship_tag": "ABX9TyMneYB3jYZgf9iLWY4quotx",
      "include_colab_link": true
    },
    "kernelspec": {
      "name": "python3",
      "display_name": "Python 3"
    },
    "language_info": {
      "name": "python"
    }
  },
  "cells": [
    {
      "cell_type": "markdown",
      "metadata": {
        "id": "view-in-github",
        "colab_type": "text"
      },
      "source": [
        "<a href=\"https://colab.research.google.com/github/VineetSivadasan/houses/blob/main/Intro_to_Ensemble_Models_and_Regression_(KNN).ipynb\" target=\"_parent\"><img src=\"https://colab.research.google.com/assets/colab-badge.svg\" alt=\"Open In Colab\"/></a>"
      ]
    },
    {
      "cell_type": "code",
      "metadata": {
        "id": "kyOPK7psiKwS"
      },
      "source": [
        "import numpy as np\n",
        "import pandas as pd\n",
        "import matplotlib.pyplot as plt\n",
        "from scipy.stats import multivariate_normal as mvn\n",
        "import seaborn as sns\n",
        "from geopy import Nominatim\n",
        "\n",
        "houses_cleaned = pd.read_csv('/content/drive/MyDrive/Colab Notebooks/houses_cleaned.csv')\n",
        "houses_cleaned"
      ],
      "execution_count": null,
      "outputs": []
    },
    {
      "cell_type": "code",
      "metadata": {
        "id": "BJgP2yi2QDxI"
      },
      "source": [
        "houses_cleaned.shape #determine the number of rows and columns of the dataset"
      ],
      "execution_count": null,
      "outputs": []
    },
    {
      "cell_type": "code",
      "metadata": {
        "id": "Z7X1h-TxUJYF"
      },
      "source": [
        "houses_cleaned.dtypes   #determine what types of data are in the cells"
      ],
      "execution_count": null,
      "outputs": []
    },
    {
      "cell_type": "code",
      "metadata": {
        "id": "fF5lsq1eCwyp"
      },
      "source": [
        "#check to see if there are any null values\n",
        "checking_NaN = houses_cleaned.isnull().values.any() \n",
        "checking_NaN"
      ],
      "execution_count": null,
      "outputs": []
    },
    {
      "cell_type": "code",
      "metadata": {
        "id": "bE5nnkPLT6Rk"
      },
      "source": [
        "#print the rows where 'None' appear\n",
        "print_None_rows = houses_cleaned[houses_cleaned.eq('None').any(axis=1)]  \n",
        "print_None_rows.shape"
      ],
      "execution_count": null,
      "outputs": []
    },
    {
      "cell_type": "code",
      "metadata": {
        "id": "tUAgOV9gTDNI"
      },
      "source": [
        "# remove rows that contain a HOA value greater than 550 \n",
        "print_large_rows = houses_cleaned[houses_cleaned[\"HOA\"] > 550]\n",
        "houses_cleaned = houses_cleaned[houses_cleaned[\"HOA\"] < 551]\n",
        "houses_cleaned\n",
        "\n"
      ],
      "execution_count": null,
      "outputs": []
    },
    {
      "cell_type": "code",
      "metadata": {
        "id": "qE8lgGitRbD9"
      },
      "source": [
        "#print columns where 'None' appears\n",
        "houses_cleaned.eq(\"None\").any()[lambda x: x]  "
      ],
      "execution_count": null,
      "outputs": []
    },
    {
      "cell_type": "code",
      "metadata": {
        "id": "ZEazMDStnIQs"
      },
      "source": [
        "#construct a correlation matrix for the 14 columns/features \n",
        "corr_matrix = houses_cleaned.corr()\n",
        "corr_matrix.style.background_gradient(cmap='coolwarm')\n"
      ],
      "execution_count": null,
      "outputs": []
    },
    {
      "cell_type": "code",
      "metadata": {
        "id": "gW5S8foUqRRr"
      },
      "source": [
        "#heatmap for the 14 features\n",
        "sns.heatmap(corr_matrix)"
      ],
      "execution_count": null,
      "outputs": []
    },
    {
      "cell_type": "code",
      "metadata": {
        "id": "zrDWiDxvcfMZ"
      },
      "source": [
        "X=np.zeros((len(houses_cleaned),2)) #create a numpy array with the number of rows of the training set and 2 columns\n",
        "X"
      ],
      "execution_count": null,
      "outputs": []
    },
    {
      "cell_type": "code",
      "metadata": {
        "id": "x3Fnajlsug0A"
      },
      "source": [
        "# fill the X numpy array with the longitude and latitude columns from the houses_cleaned datasets\n",
        "X[:,0]=houses_cleaned.iloc[:,3] #longitude\n",
        "X[:,1]=(houses_cleaned.iloc[:,4]) #latitude\n",
        "X"
      ],
      "execution_count": null,
      "outputs": []
    },
    {
      "cell_type": "code",
      "metadata": {
        "id": "CjawdnSKXZEX"
      },
      "source": [
        "X[np.argmax(X[:,0])][0], X[np.argmax(X[:,0])][1] #find longitude and latitude where max value for longitude is"
      ],
      "execution_count": null,
      "outputs": []
    },
    {
      "cell_type": "code",
      "metadata": {
        "id": "5FS2carNrqiO"
      },
      "source": [
        "X[np.argmax(X[:,1])][0], X[np.argmax(X[:,1])][1] #find longitude and latitude where max value for latitude is"
      ],
      "execution_count": null,
      "outputs": []
    },
    {
      "cell_type": "code",
      "metadata": {
        "id": "yMOLN5PBBe0s"
      },
      "source": [
        "# plotting longitude and lattitude datapoints and labelling the known locations\n",
        "plt.scatter(X[:,0],X[:,1])\n",
        "plt.scatter(X[np.argmax(X[:,0])][0], X[np.argmax(X[:,0])][1], color=\"red\")\n",
        "plt.scatter(X[np.argmax(X[:,1])][0], X[np.argmax(X[:,1])][1], color=\"yellow\")\n",
        "plt.scatter(X[2220,0],X[2220,1], color=\"brown\")\n",
        "plt.xlabel(\"longitude\")\n",
        "plt.ylabel(\"latitude\")"
      ],
      "execution_count": null,
      "outputs": []
    },
    {
      "cell_type": "code",
      "metadata": {
        "id": "P-wZIjgCqRGP"
      },
      "source": [
        "HOA_data = (houses_cleaned.iloc[:,15]).astype(int) #fill the variable HOA_data with the \"HOA\" column from houses_cleaned\n",
        "print(HOA_data)"
      ],
      "execution_count": null,
      "outputs": []
    },
    {
      "cell_type": "code",
      "metadata": {
        "id": "RJAnVy59gScD"
      },
      "source": [
        "# group the HOA values as classes\n",
        "HOA_data2 = HOA_data[(HOA_data >= 0) & (HOA_data <=20000)]"
      ],
      "execution_count": 314,
      "outputs": []
    },
    {
      "cell_type": "code",
      "metadata": {
        "id": "aamLUHe0JxFx"
      },
      "source": [
        "y = HOA_data2  #y is the variable which contains the \n",
        "y"
      ],
      "execution_count": null,
      "outputs": []
    },
    {
      "cell_type": "code",
      "metadata": {
        "id": "RSnEFd6uzdbh"
      },
      "source": [
        "#Turn the HOA column into a numpy array\n",
        "y = y.to_numpy()\n",
        "y"
      ],
      "execution_count": null,
      "outputs": []
    },
    {
      "cell_type": "code",
      "metadata": {
        "id": "0Fg7Mfz8Jeao"
      },
      "source": [
        "y.shape"
      ],
      "execution_count": null,
      "outputs": []
    },
    {
      "cell_type": "code",
      "metadata": {
        "id": "jyOm9yy5Bwx3"
      },
      "source": [
        "y.dtype"
      ],
      "execution_count": null,
      "outputs": []
    },
    {
      "cell_type": "code",
      "metadata": {
        "id": "TxZYsFaIgzQt"
      },
      "source": [
        "y = y.astype(int)"
      ],
      "execution_count": 320,
      "outputs": []
    },
    {
      "cell_type": "code",
      "metadata": {
        "id": "BEssaH_z3yY7"
      },
      "source": [
        "y.max()"
      ],
      "execution_count": null,
      "outputs": []
    },
    {
      "cell_type": "code",
      "metadata": {
        "id": "sPjGTHVE32aB"
      },
      "source": [
        "y.min()"
      ],
      "execution_count": null,
      "outputs": []
    },
    {
      "cell_type": "code",
      "metadata": {
        "id": "30Jyf8NapJtA"
      },
      "source": [
        "# histogram of HOA value vs frequency\n",
        "plt.figure()\n",
        "plt.hist((houses_cleaned.iloc[:,15]))\n",
        "plt.xlabel(\"HOA value\")\n",
        "plt.ylabel(\"frequency\")"
      ],
      "execution_count": null,
      "outputs": []
    },
    {
      "cell_type": "code",
      "metadata": {
        "id": "7_q2qMDhQ_-Z"
      },
      "source": [
        "class KNNClassifier():\n",
        "\n",
        "  def fit(self,X,y):\n",
        "    self.X=X\n",
        "    self.y=y\n",
        "  \n",
        "  def predict(self, X,K, epsilon =1e-3):\n",
        "    N=len(X)\n",
        "    y_hat = np.zeros(N)\n",
        "\n",
        "    for i in range(N):\n",
        "      dist2 = np.sum((self.X-X[i])**2, axis=1)\n",
        "      idxt = np.argsort(dist2)[:K]\n",
        "      gamma_k = 1/(np.sqrt(dist2[idxt])+epsilon)\n",
        "      y_hat[i]=np.bincount(self.y[idxt], weights=gamma_k).argmax()\n",
        "    return y_hat\n"
      ],
      "execution_count": 329,
      "outputs": []
    },
    {
      "cell_type": "code",
      "metadata": {
        "id": "ab5y9cVimCpm"
      },
      "source": [
        "def accuracy(y, y_hat):\n",
        "  return np.mean(y == y_hat)"
      ],
      "execution_count": 608,
      "outputs": []
    },
    {
      "cell_type": "code",
      "metadata": {
        "id": "Hx-XEJj8mDZ9"
      },
      "source": [
        "accuracy(y, y_hat)"
      ],
      "execution_count": null,
      "outputs": []
    },
    {
      "cell_type": "code",
      "metadata": {
        "id": "AICTC39ZbwFt"
      },
      "source": [
        "knn = KNNClassifier()"
      ],
      "execution_count": 330,
      "outputs": []
    },
    {
      "cell_type": "code",
      "metadata": {
        "id": "V_GuEntIby63"
      },
      "source": [
        "knn.fit(X,y)"
      ],
      "execution_count": 331,
      "outputs": []
    },
    {
      "cell_type": "code",
      "metadata": {
        "id": "0FWf5KSMb9HN"
      },
      "source": [
        "# predict \n",
        "y_hat = knn.predict(X,200)\n",
        "y_hat"
      ],
      "execution_count": null,
      "outputs": []
    },
    {
      "cell_type": "code",
      "metadata": {
        "id": "c9JfEuWAgVF2"
      },
      "source": [
        "# plot of longitude and latitude vs predicted HOA \n",
        "plt.figure()\n",
        "plt.plot(X,y_hat)\n",
        "plt.xlabel(\"longitude and latitude\")\n",
        "plt.ylabel(\"predicted HOA\")"
      ],
      "execution_count": null,
      "outputs": []
    },
    {
      "cell_type": "code",
      "metadata": {
        "id": "vuzoHkoYP7D6"
      },
      "source": [
        "#plot of predicted y values against frequency\n",
        "plt.figure()\n",
        "plt.hist((y_hat),200)\n",
        "plt.ylabel(\"frequency\")\n",
        "plt.xlabel(\"predicted HOA\")"
      ],
      "execution_count": null,
      "outputs": []
    },
    {
      "cell_type": "markdown",
      "metadata": {
        "id": "uMF3AO2r2wXp"
      },
      "source": [
        "# Adding the new classified \"longitude and latitude as a function of HOA\"column to the houses dataset"
      ]
    },
    {
      "cell_type": "code",
      "metadata": {
        "id": "SIQCbuUKmGYr"
      },
      "source": [
        "Z = y_hat\n",
        "Z.astype(int)"
      ],
      "execution_count": null,
      "outputs": []
    },
    {
      "cell_type": "code",
      "metadata": {
        "id": "XTimQzl4rHX8"
      },
      "source": [
        "Z = Z.T\n",
        "Z.shape"
      ],
      "execution_count": null,
      "outputs": []
    },
    {
      "cell_type": "code",
      "metadata": {
        "id": "u-NSERWDrRpV"
      },
      "source": [
        "# turn the cleaned houses dataframe to a numpy array\n",
        "houses_cleaned_classified = houses_cleaned.to_numpy()"
      ],
      "execution_count": 370,
      "outputs": []
    },
    {
      "cell_type": "code",
      "metadata": {
        "id": "ijUIEihouYx3"
      },
      "source": [
        "houses_cleaned_classified.shape"
      ],
      "execution_count": null,
      "outputs": []
    },
    {
      "cell_type": "code",
      "metadata": {
        "id": "9o--i5UwtOAP"
      },
      "source": [
        "#joining the new KNN classified column of longitude and latitude against HOA to the original dataset, thus making 17 columns in total\n",
        "houses_cleaned_classified_new = np.hstack((houses_cleaned_classified, np.atleast_2d(Z).T))\n",
        "houses_cleaned_classified_new"
      ],
      "execution_count": null,
      "outputs": []
    },
    {
      "cell_type": "code",
      "metadata": {
        "id": "H3Bj8Jq1hDyQ"
      },
      "source": [
        "houses_cleaned_classified_new.shape"
      ],
      "execution_count": null,
      "outputs": []
    },
    {
      "cell_type": "code",
      "metadata": {
        "id": "Bx8HR6R3h6oY"
      },
      "source": [
        "#convert the joined array back into a dataframe\n",
        "houses_cleaned_classified_new_df = pd.DataFrame(data =houses_cleaned_classified_new)\n",
        "houses_cleaned_classified_new_df.head()"
      ],
      "execution_count": null,
      "outputs": []
    },
    {
      "cell_type": "markdown",
      "metadata": {
        "id": "Syo1Ux3d6p_S"
      },
      "source": [
        "## Splitting the newly combined dataset into training, validation and test sets"
      ]
    },
    {
      "cell_type": "code",
      "metadata": {
        "id": "K7wYXu368_dj"
      },
      "source": [
        "# constructing training, validation and test sets\n",
        "def data_train_validate_test(df, training_set_percent=0.8, validation_set_percent=0.1, seed=None):\n",
        "  np.random.seed(seed)  #set a random seed number such that the same index sampled here is repeated \n",
        "  permutation = np.random.permutation(df.index)  #random selection of the dataframe index\n",
        "  print(permutation)\n",
        "  length = len(df.index)  #size of index of dataset\n",
        "  #print(length)\n",
        "  training_set_end = int(training_set_percent * length)  #size of the training set\n",
        "  print(training_set_end)\n",
        "  validation_set_end = int(validation_set_percent * length) + training_set_end  #size of the validation set + training set\n",
        "  print(validation_set_end)\n",
        "  training = df.iloc[permutation[:training_set_end]] #select random rows up to the size of the training set to form the training dataset\n",
        "  validation = df.iloc[permutation[training_set_end:validation_set_end]] #select random rows up to the size of validation set to form the validation dataset\n",
        "  test = df.iloc[permutation[validation_set_end:]] #The remaining rows from the validation set onwards to the end will be the test dataset\n",
        "  return training, validation, test"
      ],
      "execution_count": 375,
      "outputs": []
    },
    {
      "cell_type": "code",
      "metadata": {
        "id": "-As0LhXVq5m2"
      },
      "source": [
        "houses_cleaned_classified_new_df.head()\n",
        "\n"
      ],
      "execution_count": null,
      "outputs": []
    },
    {
      "cell_type": "code",
      "metadata": {
        "id": "fwaZLmrzOBpp"
      },
      "source": [
        "training, validation, test = data_train_validate_test(houses_cleaned_classified_new_df)"
      ],
      "execution_count": null,
      "outputs": []
    },
    {
      "cell_type": "code",
      "metadata": {
        "id": "nWe1Hs4-P_GP"
      },
      "source": [
        "training.shape, validation.shape, test.shape"
      ],
      "execution_count": null,
      "outputs": []
    },
    {
      "cell_type": "code",
      "metadata": {
        "id": "5ELXxpdPmig3"
      },
      "source": [
        "training_numpy = training.to_numpy()\n",
        "training_numpy"
      ],
      "execution_count": null,
      "outputs": []
    },
    {
      "cell_type": "code",
      "metadata": {
        "id": "Ldn4WXxbCmSc"
      },
      "source": [
        "test_numpy = test.to_numpy()\n",
        "test_numpy"
      ],
      "execution_count": null,
      "outputs": []
    },
    {
      "cell_type": "code",
      "metadata": {
        "id": "wRGzfEkKEk9c"
      },
      "source": [
        "validation_numpy = validation.to_numpy()\n",
        "validation_numpy"
      ],
      "execution_count": null,
      "outputs": []
    },
    {
      "cell_type": "code",
      "metadata": {
        "id": "J-udeTiqn5EQ"
      },
      "source": [
        "#training , validation and test y variables i.e. the HOA column\n",
        "Y_MULTI = training_numpy[:,[15]].astype(float) \n",
        "Y_MULTI_TEST = test_numpy[:,[15]].astype(float) \n",
        "Y_MULTI_VALIDATION = validation_numpy[:,[15]].astype(float) \n",
        "\n",
        "Y_MULTI #training y, i.e. the HOA column"
      ],
      "execution_count": null,
      "outputs": []
    },
    {
      "cell_type": "code",
      "metadata": {
        "id": "4qTXnjU4tkkz"
      },
      "source": [
        "X_MULTI = training_numpy[:,[0,1,2,5,6,7,8,9,10,11,13,16]].astype(float) #multivariate linear regression\n",
        "X_MULTI_TEST = test_numpy[:,[0,1,2,5,6,7,8,9,10,11,13,16]].astype(float) #multivariate linear regression\n",
        "X_MULTI_VALIDATION = validation_numpy[:,[0,1,2,5,6,7,8,9,10,11,13,16]].astype(float) #multivariate linear regression\n",
        "\n",
        "X_MULTI #training X, i.e. all columns except longitude, latitude (which is being replaced with the new classified column) and HOA column"
      ],
      "execution_count": null,
      "outputs": []
    },
    {
      "cell_type": "code",
      "metadata": {
        "id": "z0sg_cMzos0q"
      },
      "source": [
        "X_MULTI.shape"
      ],
      "execution_count": null,
      "outputs": []
    },
    {
      "cell_type": "code",
      "metadata": {
        "id": "RteLn1702Anb"
      },
      "source": [
        "def OLS(Y,Y_hat, N):\n",
        "  return (1/(2*N)*np.sum((Y-Y_hat)**2))\n",
        "\n",
        "def R2(Y, Y_hat):\n",
        "  return (1-(np.sum((Y-Y_hat)**2)/np.sum((Y-np.mean(Y))**2)))"
      ],
      "execution_count": 568,
      "outputs": []
    },
    {
      "cell_type": "code",
      "metadata": {
        "id": "pn_3Ncz6TAZ-"
      },
      "source": [
        "class LinearRegression():\n",
        "  def fit(self,X,y):\n",
        "    self.w = np.linalg.solve(X.T@X, X.T@y)\n",
        "  \n",
        "  def predict(self,X):\n",
        "    return np.matmul(X, self.w)"
      ],
      "execution_count": 569,
      "outputs": []
    },
    {
      "cell_type": "code",
      "metadata": {
        "id": "pJsVcSosTD1V"
      },
      "source": [
        "lr1=LinearRegression()"
      ],
      "execution_count": 570,
      "outputs": []
    },
    {
      "cell_type": "code",
      "metadata": {
        "id": "bASMcdAsTIN0"
      },
      "source": [
        "lr1.fit(X_MULTI,Y_MULTI)"
      ],
      "execution_count": 571,
      "outputs": []
    },
    {
      "cell_type": "code",
      "metadata": {
        "id": "0QFfx64lTKwC"
      },
      "source": [
        "y_hat2=lr1.predict(X_MULTI) #predicted HOA values in the training set"
      ],
      "execution_count": 572,
      "outputs": []
    },
    {
      "cell_type": "code",
      "metadata": {
        "id": "HtVpHq_KCwsO"
      },
      "source": [
        "y_hat2_test=lr1.predict(X_MULTI_TEST)  #predicted HOA values in the test set"
      ],
      "execution_count": 573,
      "outputs": []
    },
    {
      "cell_type": "code",
      "metadata": {
        "id": "zpxY9YYZFFK8"
      },
      "source": [
        "y_hat2_validation=lr1.predict(X_MULTI_VALIDATION)   #predicted HOA values in the validation set"
      ],
      "execution_count": 574,
      "outputs": []
    },
    {
      "cell_type": "code",
      "metadata": {
        "id": "3t--8yNH-Mw5"
      },
      "source": [
        "R2(Y_MULTI,y_hat2)"
      ],
      "execution_count": null,
      "outputs": []
    },
    {
      "cell_type": "code",
      "metadata": {
        "id": "o8Pnu4hwC6Go"
      },
      "source": [
        "R2(Y_MULTI_TEST,y_hat2_test)"
      ],
      "execution_count": null,
      "outputs": []
    },
    {
      "cell_type": "code",
      "metadata": {
        "id": "LeEnaRHjFMG2"
      },
      "source": [
        "R2(Y_MULTI_VALIDATION,y_hat2_validation)"
      ],
      "execution_count": null,
      "outputs": []
    },
    {
      "cell_type": "code",
      "metadata": {
        "id": "RNSJYk2HjfnF"
      },
      "source": [
        "X_MULTI[:,11]  #classified longitude and latitude column"
      ],
      "execution_count": null,
      "outputs": []
    },
    {
      "cell_type": "code",
      "metadata": {
        "id": "jY6wtq64TM4p"
      },
      "source": [
        "plt.figure()\n",
        "plt.scatter(X_MULTI[:,11],y_hat2)\n",
        "plt.xlabel(\"classified longitude and latitude by HOA\")\n",
        "plt.ylabel(\"predicted HOA\")"
      ],
      "execution_count": null,
      "outputs": []
    },
    {
      "cell_type": "code",
      "metadata": {
        "id": "dsSjnouQgN4v"
      },
      "source": [
        "plt.figure()\n",
        "plt.scatter(X_MULTI[:,11],Y_MULTI)\n",
        "plt.xlabel(\"classified longitude and latitude by HOA\")\n",
        "plt.ylabel(\"actual HOA\")"
      ],
      "execution_count": null,
      "outputs": []
    },
    {
      "cell_type": "code",
      "metadata": {
        "id": "IT-TecrhDrjJ"
      },
      "source": [
        "plt.figure()\n",
        "plt.scatter(X_MULTI[:,2],y_hat2, color =\"red\")\n",
        "plt.xlabel(\"zip code\")\n",
        "plt.ylabel(\"predicted HOA\")"
      ],
      "execution_count": null,
      "outputs": []
    },
    {
      "cell_type": "code",
      "metadata": {
        "id": "d7wRPbsAYuvd"
      },
      "source": [
        "plt.figure()\n",
        "plt.scatter(X_MULTI[:,2],Y_MULTI, color =\"red\")\n",
        "plt.xlabel(\"zip code\")\n",
        "plt.ylabel(\" HOA\")"
      ],
      "execution_count": null,
      "outputs": []
    },
    {
      "cell_type": "code",
      "metadata": {
        "id": "pBtZ3JHFFLBP"
      },
      "source": [
        "fig = plt.figure()\n",
        "ax1 = fig.add_subplot(111)\n",
        "#ax1.scatter(X_MULTI[:,0],y_hat2, color = \"red\")  #MLS vs predicted HOA\n",
        "#ax1.scatter(X_MULTI[:,1],y_hat2, color = \"orange\")  #sold price vs predicted HOA\n",
        "#ax1.scatter(X_MULTI[:,2],y_hat2, color = \"yellow\")  #zipcode vs predicted HOA\n",
        "#ax1.scatter(X_MULTI[:,5],y_hat2, color = \"purple\")  #lot_acres vs predicted HOA\n",
        "ax1.scatter(X_MULTI[:,6],y_hat2, color = \"brown\")  #taxes vs predicted HOA\n",
        "ax1.scatter(X_MULTI[:,7],y_hat2, color = \"violet\")  #year_built vs predicted HOA\n",
        "#ax1.scatter(X_MULTI[:,8],y_hat2, color = \"pink\")  #bedrooms vs predicted HOA\n",
        "ax1.scatter(X_MULTI[:,9],y_hat2, color = \"black\")  #bathrooms vs predicted HOA\n",
        "ax1.scatter(X_MULTI[:,10],y_hat2, color = \"grey\")  #bathrooms vs predicted HOA\n",
        "#ax1.scatter(X_MULTI[:,11],y_hat2, color =\"blue\") #combined column of longitude and latitude against HOA vs predicted HOA\n",
        "\n",
        "\n",
        "plt.ylabel(\"predicted HOA\")\n",
        "\n",
        "plt.show"
      ],
      "execution_count": null,
      "outputs": []
    },
    {
      "cell_type": "code",
      "metadata": {
        "id": "wiEtBK9UvTGx"
      },
      "source": [
        "sns.pairplot(training)"
      ],
      "execution_count": null,
      "outputs": []
    }
  ]
}