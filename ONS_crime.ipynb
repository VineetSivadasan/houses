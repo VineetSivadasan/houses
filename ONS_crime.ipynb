{
  "nbformat": 4,
  "nbformat_minor": 0,
  "metadata": {
    "colab": {
      "name": "ONS_crime.ipynb",
      "provenance": [],
      "authorship_tag": "ABX9TyNQeqp84s7MC35qnISQKYSW",
      "include_colab_link": true
    },
    "kernelspec": {
      "name": "python3",
      "display_name": "Python 3"
    },
    "language_info": {
      "name": "python"
    }
  },
  "cells": [
    {
      "cell_type": "markdown",
      "metadata": {
        "id": "view-in-github",
        "colab_type": "text"
      },
      "source": [
        "<a href=\"https://colab.research.google.com/github/VineetSivadasan/houses/blob/main/ONS_crime.ipynb\" target=\"_parent\"><img src=\"https://colab.research.google.com/assets/colab-badge.svg\" alt=\"Open In Colab\"/></a>"
      ]
    },
    {
      "cell_type": "code",
      "metadata": {
        "id": "3taa-AqYtDlF"
      },
      "source": [
        "import numpy as np\n",
        "import pandas as pd\n",
        "import matplotlib.pyplot as plt\n",
        "import seaborn as sns"
      ],
      "execution_count": 170,
      "outputs": []
    },
    {
      "cell_type": "code",
      "metadata": {
        "colab": {
          "base_uri": "https://localhost:8080/"
        },
        "id": "TZ9bsDkUTPss",
        "outputId": "79fbdaff-2889-4424-8864-498f15c63d8d"
      },
      "source": [
        "from google.colab import drive\n",
        "drive.mount('/content/gdrive')"
      ],
      "execution_count": 171,
      "outputs": [
        {
          "output_type": "stream",
          "text": [
            "Drive already mounted at /content/gdrive; to attempt to forcibly remount, call drive.mount(\"/content/gdrive\", force_remount=True).\n"
          ],
          "name": "stdout"
        }
      ]
    },
    {
      "cell_type": "code",
      "metadata": {
        "id": "8_f-6vJjWj1U"
      },
      "source": [
        "# import all three datasets and turn them into pandas dataframes \n",
        "df_crime = pd.read_csv('/content/gdrive/MyDrive/Colab Notebooks/On_Street_Crime_In_Camden.csv')\n",
        "df_ward_atlas = pd.read_csv('/content/gdrive/MyDrive/Colab Notebooks/ward-atlas-data.csv', encoding= 'unicode_escape')  #non-ascii characters in the csv that can not be encoded/decoded hence must use unicode escape\n",
        "df_ward_profile = pd.read_csv('/content/gdrive/MyDrive/Colab Notebooks/ward-atlas-data.csv', encoding= 'unicode_escape')"
      ],
      "execution_count": 172,
      "outputs": []
    },
    {
      "cell_type": "code",
      "metadata": {
        "colab": {
          "base_uri": "https://localhost:8080/"
        },
        "id": "2YgFttoGdif5",
        "outputId": "0909d36c-ce1f-4964-c958-ab8c80b64a6a"
      },
      "source": [
        "df_crime.head"
      ],
      "execution_count": 173,
      "outputs": [
        {
          "output_type": "execute_result",
          "data": {
            "text/plain": [
              "<bound method NDFrame.head of                             Category  ...                Location\n",
              "0                        Other theft  ...    (51.5318, -0.123189)\n",
              "1              Anti-social behaviour  ...  (51.528169, -0.131558)\n",
              "2              Theft from the person  ...  (51.542741, -0.174124)\n",
              "3              Anti-social behaviour  ...  (51.529611, -0.121652)\n",
              "4                              Drugs  ...  (51.565544, -0.149851)\n",
              "...                              ...  ...                     ...\n",
              "285102         Theft from the person  ...  (51.524772, -0.133427)\n",
              "285103                 Bicycle theft  ...  (51.544885, -0.151958)\n",
              "285104         Theft from the person  ...   (51.516738, -0.12812)\n",
              "285105  Violence and sexual offences  ...  (51.519577, -0.122584)\n",
              "285106         Anti-social behaviour  ...  (51.556503, -0.178968)\n",
              "\n",
              "[285107 rows x 20 columns]>"
            ]
          },
          "metadata": {
            "tags": []
          },
          "execution_count": 173
        }
      ]
    },
    {
      "cell_type": "code",
      "metadata": {
        "colab": {
          "base_uri": "https://localhost:8080/"
        },
        "id": "5c_ndhxlrzX9",
        "outputId": "6919148f-902f-448f-850e-f8102d2cb7f0"
      },
      "source": [
        "# Look at the shape of the crime dataset and the types of data\n",
        "df_crime.shape, df_crime.dtypes"
      ],
      "execution_count": 174,
      "outputs": [
        {
          "output_type": "execute_result",
          "data": {
            "text/plain": [
              "((285107, 20), Category             object\n",
              " Street ID             int64\n",
              " Street Name          object\n",
              " Context             float64\n",
              " Outcome Category     object\n",
              " Outcome Date         object\n",
              " Service              object\n",
              " Location Subtype     object\n",
              " ID                    int64\n",
              " Persistent ID        object\n",
              " Epoch                object\n",
              " Ward Code            object\n",
              " Ward Name            object\n",
              " Easting             float64\n",
              " Northing            float64\n",
              " Longitude           float64\n",
              " Latitude            float64\n",
              " Spatial Accuracy     object\n",
              " Last Uploaded        object\n",
              " Location             object\n",
              " dtype: object)"
            ]
          },
          "metadata": {
            "tags": []
          },
          "execution_count": 174
        }
      ]
    },
    {
      "cell_type": "code",
      "metadata": {
        "colab": {
          "base_uri": "https://localhost:8080/"
        },
        "id": "6wJDgiTnuzjh",
        "outputId": "c38428c6-7aa1-42a6-991a-c796e21f4301"
      },
      "source": [
        "#check to see if there are any NaN values in the dataset\n",
        "checking_NaN = df_crime.isnull().values.any() \n",
        "checking_NaN"
      ],
      "execution_count": 175,
      "outputs": [
        {
          "output_type": "execute_result",
          "data": {
            "text/plain": [
              "True"
            ]
          },
          "metadata": {
            "tags": []
          },
          "execution_count": 175
        }
      ]
    },
    {
      "cell_type": "code",
      "metadata": {
        "colab": {
          "base_uri": "https://localhost:8080/"
        },
        "id": "SqVOG8BM4YqA",
        "outputId": "f2e58071-ddd7-4296-d70a-09f82656e4f5"
      },
      "source": [
        "#locate rows where null values appear\n",
        "NaN_rows = df_crime[df_crime.isnull().any(axis=1)]  \n",
        "NaN_rows.shape"
      ],
      "execution_count": 176,
      "outputs": [
        {
          "output_type": "execute_result",
          "data": {
            "text/plain": [
              "(285107, 20)"
            ]
          },
          "metadata": {
            "tags": []
          },
          "execution_count": 176
        }
      ]
    },
    {
      "cell_type": "code",
      "metadata": {
        "colab": {
          "base_uri": "https://localhost:8080/"
        },
        "id": "JCBn2ejg5cDH",
        "outputId": "96cc0506-9815-49c8-90c5-66c0669c1c66"
      },
      "source": [
        "#locate columns where null values appear\n",
        "NaN_columns = df_crime.isna().any()\n",
        "NaN_columns"
      ],
      "execution_count": 177,
      "outputs": [
        {
          "output_type": "execute_result",
          "data": {
            "text/plain": [
              "Category            False\n",
              "Street ID           False\n",
              "Street Name         False\n",
              "Context              True\n",
              "Outcome Category     True\n",
              "Outcome Date         True\n",
              "Service             False\n",
              "Location Subtype     True\n",
              "ID                  False\n",
              "Persistent ID        True\n",
              "Epoch               False\n",
              "Ward Code           False\n",
              "Ward Name           False\n",
              "Easting             False\n",
              "Northing            False\n",
              "Longitude           False\n",
              "Latitude            False\n",
              "Spatial Accuracy    False\n",
              "Last Uploaded       False\n",
              "Location            False\n",
              "dtype: bool"
            ]
          },
          "metadata": {
            "tags": []
          },
          "execution_count": 177
        }
      ]
    },
    {
      "cell_type": "code",
      "metadata": {
        "colab": {
          "base_uri": "https://localhost:8080/"
        },
        "id": "w0qQB0cjNFca",
        "outputId": "38144dfb-2416-49b8-b8fe-c61437bd4f4c"
      },
      "source": [
        "#find out how many rows in 'Context' column has NaN values\n",
        "context_nan = df_crime.Context.isnull().values.ravel().sum()\n",
        "context_nan\n"
      ],
      "execution_count": 178,
      "outputs": [
        {
          "output_type": "execute_result",
          "data": {
            "text/plain": [
              "285107"
            ]
          },
          "metadata": {
            "tags": []
          },
          "execution_count": 178
        }
      ]
    },
    {
      "cell_type": "code",
      "metadata": {
        "id": "pTo2cRCuOYKE"
      },
      "source": [
        "#Given that all values in 'Context' are NaN values, drop this column\n",
        "df_crime.drop(['Context'], axis=1, inplace=True)"
      ],
      "execution_count": null,
      "outputs": []
    },
    {
      "cell_type": "code",
      "metadata": {
        "id": "565pwOWv1dmn"
      },
      "source": [
        "#Given that 'Location' is just longitude and latitude values, drop this column\n",
        "df_crime.drop(['Location'], axis=1, inplace=True)"
      ],
      "execution_count": 181,
      "outputs": []
    },
    {
      "cell_type": "code",
      "metadata": {
        "id": "lGJpZ6tt2xne"
      },
      "source": [
        "#'Spatial Accuracy' doesn't give any useful information hence drop this column\n",
        "df_crime.drop(['Spatial Accuracy'], axis=1, inplace=True)"
      ],
      "execution_count": 182,
      "outputs": []
    },
    {
      "cell_type": "code",
      "metadata": {
        "colab": {
          "base_uri": "https://localhost:8080/"
        },
        "id": "YzGbcjdSPJ0o",
        "outputId": "a4d7a439-c3e1-47f0-bb5e-541e28de7334"
      },
      "source": [
        "df_crime.shape"
      ],
      "execution_count": 183,
      "outputs": [
        {
          "output_type": "execute_result",
          "data": {
            "text/plain": [
              "(285107, 17)"
            ]
          },
          "metadata": {
            "tags": []
          },
          "execution_count": 183
        }
      ]
    },
    {
      "cell_type": "code",
      "metadata": {
        "colab": {
          "base_uri": "https://localhost:8080/"
        },
        "id": "yb8WfXf8PmdA",
        "outputId": "d7fc7eab-2bc4-4f14-afa1-e64b05b8bcd9"
      },
      "source": [
        "#find out how many rows in 'Outcome Category' column has NaN values\n",
        "outcome_cat_nan = df_crime['Outcome Category'].isnull().values.ravel().sum()\n",
        "outcome_cat_nan"
      ],
      "execution_count": 184,
      "outputs": [
        {
          "output_type": "execute_result",
          "data": {
            "text/plain": [
              "67292"
            ]
          },
          "metadata": {
            "tags": []
          },
          "execution_count": 184
        }
      ]
    },
    {
      "cell_type": "code",
      "metadata": {
        "colab": {
          "base_uri": "https://localhost:8080/"
        },
        "id": "SvcMoUMlP_cp",
        "outputId": "d17ee807-9bd4-46e8-dc4a-abaab27c2c89"
      },
      "source": [
        "#find out how many rows in 'Context' column has NaN values\n",
        "outcome_date_nan = df_crime['Outcome Date'].isnull().values.ravel().sum()\n",
        "outcome_date_nan\n"
      ],
      "execution_count": 185,
      "outputs": [
        {
          "output_type": "execute_result",
          "data": {
            "text/plain": [
              "67292"
            ]
          },
          "metadata": {
            "tags": []
          },
          "execution_count": 185
        }
      ]
    },
    {
      "cell_type": "code",
      "metadata": {
        "colab": {
          "base_uri": "https://localhost:8080/"
        },
        "id": "kBQxlCvZ3yXx",
        "outputId": "6f02912e-29ae-46be-b748-d8192b315ffa"
      },
      "source": [
        "#find out how many rows in 'Context' column has NaN values\n",
        "location_nan = df_crime['Location Subtype'].isnull().values.ravel().sum()\n",
        "location_nan"
      ],
      "execution_count": 186,
      "outputs": [
        {
          "output_type": "execute_result",
          "data": {
            "text/plain": [
              "269410"
            ]
          },
          "metadata": {
            "tags": []
          },
          "execution_count": 186
        }
      ]
    },
    {
      "cell_type": "code",
      "metadata": {
        "colab": {
          "base_uri": "https://localhost:8080/"
        },
        "id": "PIX_V3EG4T4w",
        "outputId": "884e1b3f-f539-4fa5-9160-e2b448766966"
      },
      "source": [
        "#find out how many rows in 'Context' column has NaN values\n",
        "persistent_nan = df_crime['Persistent ID'].isnull().values.ravel().sum()\n",
        "persistent_nan"
      ],
      "execution_count": 187,
      "outputs": [
        {
          "output_type": "execute_result",
          "data": {
            "text/plain": [
              "82519"
            ]
          },
          "metadata": {
            "tags": []
          },
          "execution_count": 187
        }
      ]
    },
    {
      "cell_type": "code",
      "metadata": {
        "colab": {
          "base_uri": "https://localhost:8080/"
        },
        "id": "pxsGJc_LdE9G",
        "outputId": "c742d680-974e-40a4-b4a9-d81bdfebceeb"
      },
      "source": [
        "#describe the Epoch column\n",
        "df_crime['Epoch'].describe()"
      ],
      "execution_count": 188,
      "outputs": [
        {
          "output_type": "execute_result",
          "data": {
            "text/plain": [
              "count                     285107\n",
              "unique                        76\n",
              "top       03/01/2019 12:00:00 AM\n",
              "freq                        4694\n",
              "Name: Epoch, dtype: object"
            ]
          },
          "metadata": {
            "tags": []
          },
          "execution_count": 188
        }
      ]
    },
    {
      "cell_type": "markdown",
      "metadata": {
        "id": "aNCO8gH7o-tt"
      },
      "source": [
        "# Let's look at the numbers of crimes commited across London for the time span of the dataset\n"
      ]
    },
    {
      "cell_type": "code",
      "metadata": {
        "id": "POMzbslvj6Vs"
      },
      "source": [
        "#introduce a count of 1 for each crime \n",
        "df_crime['count'] = 1"
      ],
      "execution_count": 189,
      "outputs": []
    },
    {
      "cell_type": "code",
      "metadata": {
        "colab": {
          "base_uri": "https://localhost:8080/"
        },
        "id": "DqJORYJCy1Fs",
        "outputId": "6b828195-01b2-4318-a7be-5a91e9a4cef7"
      },
      "source": [
        "df_crime.dtypes"
      ],
      "execution_count": 190,
      "outputs": [
        {
          "output_type": "execute_result",
          "data": {
            "text/plain": [
              "Category             object\n",
              "Street ID             int64\n",
              "Street Name          object\n",
              "Outcome Category     object\n",
              "Outcome Date         object\n",
              "Service              object\n",
              "Location Subtype     object\n",
              "ID                    int64\n",
              "Persistent ID        object\n",
              "Epoch                object\n",
              "Ward Code            object\n",
              "Ward Name            object\n",
              "Easting             float64\n",
              "Northing            float64\n",
              "Longitude           float64\n",
              "Latitude            float64\n",
              "Last Uploaded        object\n",
              "count                 int64\n",
              "dtype: object"
            ]
          },
          "metadata": {
            "tags": []
          },
          "execution_count": 190
        }
      ]
    },
    {
      "cell_type": "code",
      "metadata": {
        "colab": {
          "base_uri": "https://localhost:8080/",
          "height": 446
        },
        "id": "vqK2l_TFlp61",
        "outputId": "4b110288-823c-428d-c2e7-4ae44d895a7e"
      },
      "source": [
        "# Sum crimes by monthly date over the full dataset time period\n",
        "total_crimes_bydate = df_crime.groupby(['Epoch']).sum()      #sum 'count' number of crimes by date\n",
        "total_crimes_bydate.drop(['Street ID', 'ID', 'Easting', 'Northing', 'Longitude','Latitude'], axis=1, inplace=True)     #remove all other columns\n",
        "total_crimes_bydate['date'] = total_crimes_bydate.index        #create another column for the date, called date\n",
        "total_crimes_bydate"
      ],
      "execution_count": 191,
      "outputs": [
        {
          "output_type": "execute_result",
          "data": {
            "text/html": [
              "<div>\n",
              "<style scoped>\n",
              "    .dataframe tbody tr th:only-of-type {\n",
              "        vertical-align: middle;\n",
              "    }\n",
              "\n",
              "    .dataframe tbody tr th {\n",
              "        vertical-align: top;\n",
              "    }\n",
              "\n",
              "    .dataframe thead th {\n",
              "        text-align: right;\n",
              "    }\n",
              "</style>\n",
              "<table border=\"1\" class=\"dataframe\">\n",
              "  <thead>\n",
              "    <tr style=\"text-align: right;\">\n",
              "      <th></th>\n",
              "      <th>count</th>\n",
              "      <th>date</th>\n",
              "    </tr>\n",
              "    <tr>\n",
              "      <th>Epoch</th>\n",
              "      <th></th>\n",
              "      <th></th>\n",
              "    </tr>\n",
              "  </thead>\n",
              "  <tbody>\n",
              "    <tr>\n",
              "      <th>01/01/2015 12:00:00 AM</th>\n",
              "      <td>3111</td>\n",
              "      <td>01/01/2015 12:00:00 AM</td>\n",
              "    </tr>\n",
              "    <tr>\n",
              "      <th>01/01/2016 12:00:00 AM</th>\n",
              "      <td>3244</td>\n",
              "      <td>01/01/2016 12:00:00 AM</td>\n",
              "    </tr>\n",
              "    <tr>\n",
              "      <th>01/01/2017 12:00:00 AM</th>\n",
              "      <td>3073</td>\n",
              "      <td>01/01/2017 12:00:00 AM</td>\n",
              "    </tr>\n",
              "    <tr>\n",
              "      <th>01/01/2018 12:00:00 AM</th>\n",
              "      <td>3802</td>\n",
              "      <td>01/01/2018 12:00:00 AM</td>\n",
              "    </tr>\n",
              "    <tr>\n",
              "      <th>01/01/2019 12:00:00 AM</th>\n",
              "      <td>4114</td>\n",
              "      <td>01/01/2019 12:00:00 AM</td>\n",
              "    </tr>\n",
              "    <tr>\n",
              "      <th>...</th>\n",
              "      <td>...</td>\n",
              "      <td>...</td>\n",
              "    </tr>\n",
              "    <tr>\n",
              "      <th>12/01/2016 12:00:00 AM</th>\n",
              "      <td>3420</td>\n",
              "      <td>12/01/2016 12:00:00 AM</td>\n",
              "    </tr>\n",
              "    <tr>\n",
              "      <th>12/01/2017 12:00:00 AM</th>\n",
              "      <td>3524</td>\n",
              "      <td>12/01/2017 12:00:00 AM</td>\n",
              "    </tr>\n",
              "    <tr>\n",
              "      <th>12/01/2018 12:00:00 AM</th>\n",
              "      <td>4057</td>\n",
              "      <td>12/01/2018 12:00:00 AM</td>\n",
              "    </tr>\n",
              "    <tr>\n",
              "      <th>12/01/2019 12:00:00 AM</th>\n",
              "      <td>4240</td>\n",
              "      <td>12/01/2019 12:00:00 AM</td>\n",
              "    </tr>\n",
              "    <tr>\n",
              "      <th>12/01/2020 12:00:00 AM</th>\n",
              "      <td>3049</td>\n",
              "      <td>12/01/2020 12:00:00 AM</td>\n",
              "    </tr>\n",
              "  </tbody>\n",
              "</table>\n",
              "<p>76 rows × 2 columns</p>\n",
              "</div>"
            ],
            "text/plain": [
              "                        count                    date\n",
              "Epoch                                                \n",
              "01/01/2015 12:00:00 AM   3111  01/01/2015 12:00:00 AM\n",
              "01/01/2016 12:00:00 AM   3244  01/01/2016 12:00:00 AM\n",
              "01/01/2017 12:00:00 AM   3073  01/01/2017 12:00:00 AM\n",
              "01/01/2018 12:00:00 AM   3802  01/01/2018 12:00:00 AM\n",
              "01/01/2019 12:00:00 AM   4114  01/01/2019 12:00:00 AM\n",
              "...                       ...                     ...\n",
              "12/01/2016 12:00:00 AM   3420  12/01/2016 12:00:00 AM\n",
              "12/01/2017 12:00:00 AM   3524  12/01/2017 12:00:00 AM\n",
              "12/01/2018 12:00:00 AM   4057  12/01/2018 12:00:00 AM\n",
              "12/01/2019 12:00:00 AM   4240  12/01/2019 12:00:00 AM\n",
              "12/01/2020 12:00:00 AM   3049  12/01/2020 12:00:00 AM\n",
              "\n",
              "[76 rows x 2 columns]"
            ]
          },
          "metadata": {
            "tags": []
          },
          "execution_count": 191
        }
      ]
    },
    {
      "cell_type": "code",
      "metadata": {
        "colab": {
          "base_uri": "https://localhost:8080/",
          "height": 446
        },
        "id": "7PFanMiUlcus",
        "outputId": "29d9c016-c96d-40b4-d303-4dd6cf26083b"
      },
      "source": [
        "#change the date format in 'Epoch' column\n",
        "total_crimes_bydate['date'] = pd.to_datetime(total_crimes_bydate['date']).dt.date\n",
        "total_crimes_bydate['date'] = pd.to_datetime(total_crimes_bydate['date']).dt.strftime('%d-%m-%Y')\n",
        "total_crimes_bydate['date'] = pd.to_datetime(total_crimes_bydate.date)\n",
        "total_crimes_bydate = total_crimes_bydate.sort_values(by = 'date')\n",
        "total_crimes_bydate"
      ],
      "execution_count": 193,
      "outputs": [
        {
          "output_type": "execute_result",
          "data": {
            "text/html": [
              "<div>\n",
              "<style scoped>\n",
              "    .dataframe tbody tr th:only-of-type {\n",
              "        vertical-align: middle;\n",
              "    }\n",
              "\n",
              "    .dataframe tbody tr th {\n",
              "        vertical-align: top;\n",
              "    }\n",
              "\n",
              "    .dataframe thead th {\n",
              "        text-align: right;\n",
              "    }\n",
              "</style>\n",
              "<table border=\"1\" class=\"dataframe\">\n",
              "  <thead>\n",
              "    <tr style=\"text-align: right;\">\n",
              "      <th></th>\n",
              "      <th>count</th>\n",
              "      <th>date</th>\n",
              "    </tr>\n",
              "    <tr>\n",
              "      <th>Epoch</th>\n",
              "      <th></th>\n",
              "      <th></th>\n",
              "    </tr>\n",
              "  </thead>\n",
              "  <tbody>\n",
              "    <tr>\n",
              "      <th>01/01/2015 12:00:00 AM</th>\n",
              "      <td>3111</td>\n",
              "      <td>2015-01-01</td>\n",
              "    </tr>\n",
              "    <tr>\n",
              "      <th>02/01/2015 12:00:00 AM</th>\n",
              "      <td>3028</td>\n",
              "      <td>2015-02-01</td>\n",
              "    </tr>\n",
              "    <tr>\n",
              "      <th>03/01/2015 12:00:00 AM</th>\n",
              "      <td>3412</td>\n",
              "      <td>2015-03-01</td>\n",
              "    </tr>\n",
              "    <tr>\n",
              "      <th>04/01/2015 12:00:00 AM</th>\n",
              "      <td>3399</td>\n",
              "      <td>2015-04-01</td>\n",
              "    </tr>\n",
              "    <tr>\n",
              "      <th>05/01/2015 12:00:00 AM</th>\n",
              "      <td>3602</td>\n",
              "      <td>2015-05-01</td>\n",
              "    </tr>\n",
              "    <tr>\n",
              "      <th>...</th>\n",
              "      <td>...</td>\n",
              "      <td>...</td>\n",
              "    </tr>\n",
              "    <tr>\n",
              "      <th>12/01/2020 12:00:00 AM</th>\n",
              "      <td>3049</td>\n",
              "      <td>2020-12-01</td>\n",
              "    </tr>\n",
              "    <tr>\n",
              "      <th>01/01/2021 12:00:00 AM</th>\n",
              "      <td>2691</td>\n",
              "      <td>2021-01-01</td>\n",
              "    </tr>\n",
              "    <tr>\n",
              "      <th>02/01/2021 12:00:00 AM</th>\n",
              "      <td>2746</td>\n",
              "      <td>2021-02-01</td>\n",
              "    </tr>\n",
              "    <tr>\n",
              "      <th>03/01/2021 12:00:00 AM</th>\n",
              "      <td>3128</td>\n",
              "      <td>2021-03-01</td>\n",
              "    </tr>\n",
              "    <tr>\n",
              "      <th>04/01/2021 12:00:00 AM</th>\n",
              "      <td>3170</td>\n",
              "      <td>2021-04-01</td>\n",
              "    </tr>\n",
              "  </tbody>\n",
              "</table>\n",
              "<p>76 rows × 2 columns</p>\n",
              "</div>"
            ],
            "text/plain": [
              "                        count       date\n",
              "Epoch                                   \n",
              "01/01/2015 12:00:00 AM   3111 2015-01-01\n",
              "02/01/2015 12:00:00 AM   3028 2015-02-01\n",
              "03/01/2015 12:00:00 AM   3412 2015-03-01\n",
              "04/01/2015 12:00:00 AM   3399 2015-04-01\n",
              "05/01/2015 12:00:00 AM   3602 2015-05-01\n",
              "...                       ...        ...\n",
              "12/01/2020 12:00:00 AM   3049 2020-12-01\n",
              "01/01/2021 12:00:00 AM   2691 2021-01-01\n",
              "02/01/2021 12:00:00 AM   2746 2021-02-01\n",
              "03/01/2021 12:00:00 AM   3128 2021-03-01\n",
              "04/01/2021 12:00:00 AM   3170 2021-04-01\n",
              "\n",
              "[76 rows x 2 columns]"
            ]
          },
          "metadata": {
            "tags": []
          },
          "execution_count": 193
        }
      ]
    },
    {
      "cell_type": "code",
      "metadata": {
        "id": "JwP23AZlrcAB",
        "colab": {
          "base_uri": "https://localhost:8080/",
          "height": 313
        },
        "outputId": "c415988f-7c0d-4cf6-be98-d38265dffb79"
      },
      "source": [
        "# plot the total number of crimes committed in London over the full 7 year period given in the dataset\n",
        "plt.figure()\n",
        "plt.plot(total_crimes_bydate['date'], total_crimes_bydate['count'])\n",
        "plt.xlabel(\"date\")\n",
        "plt.ylabel(\"no.of crimes committed\")\n",
        "plt.title(\"crimes across London\")"
      ],
      "execution_count": 194,
      "outputs": [
        {
          "output_type": "execute_result",
          "data": {
            "text/plain": [
              "Text(0.5, 1.0, 'crimes across London')"
            ]
          },
          "metadata": {
            "tags": []
          },
          "execution_count": 194
        },
        {
          "output_type": "display_data",
          "data": {
            "image/png": "[encoded data removed]",
            "text/plain": [
              "<Figure size 432x288 with 1 Axes>"
            ]
          },
          "metadata": {
            "tags": [],
            "needs_background": "light"
          }
        }
      ]
    },
    {
      "cell_type": "markdown",
      "metadata": {
        "id": "I7rQXR1k99_O"
      },
      "source": [
        "# Let's look at the categories of crimes"
      ]
    },
    {
      "cell_type": "code",
      "metadata": {
        "colab": {
          "base_uri": "https://localhost:8080/"
        },
        "id": "y2YSAT4XRZR3",
        "outputId": "56b9e0a5-886f-4ad6-ea5a-7eb30ca46ab6"
      },
      "source": [
        "#describe the category column\n",
        "df_crime['Category'].describe()"
      ],
      "execution_count": 195,
      "outputs": [
        {
          "output_type": "execute_result",
          "data": {
            "text/plain": [
              "count                    285107\n",
              "unique                       14\n",
              "top       Anti-social behaviour\n",
              "freq                      67292\n",
              "Name: Category, dtype: object"
            ]
          },
          "metadata": {
            "tags": []
          },
          "execution_count": 195
        }
      ]
    },
    {
      "cell_type": "code",
      "metadata": {
        "colab": {
          "base_uri": "https://localhost:8080/"
        },
        "id": "SYPWr-5VR--i",
        "outputId": "f80f80bb-3a99-4847-80e7-5992a9299cab"
      },
      "source": [
        "#get all the unique categories of crime and the 'size' i.e. number of categories\n",
        "C = len(df_crime['Category'].unique())\n",
        "C, df_crime['Category'].unique()"
      ],
      "execution_count": 196,
      "outputs": [
        {
          "output_type": "execute_result",
          "data": {
            "text/plain": [
              "(14, array(['Other theft', 'Anti-social behaviour', 'Theft from the person',\n",
              "        'Drugs', 'Violence and sexual offences', 'Vehicle crime',\n",
              "        'Possession of weapons', 'Burglary', 'Robbery', 'Public order',\n",
              "        'Shoplifting', 'Other crime', 'Criminal damage and arson',\n",
              "        'Bicycle theft'], dtype=object))"
            ]
          },
          "metadata": {
            "tags": []
          },
          "execution_count": 196
        }
      ]
    },
    {
      "cell_type": "code",
      "metadata": {
        "colab": {
          "base_uri": "https://localhost:8080/"
        },
        "id": "AB0y5uKLesCL",
        "outputId": "561771fd-2c0b-41ff-e8e4-6f93650be204"
      },
      "source": [
        "#create another category called 'category encoded' which contains the encoded crime categories,\n",
        "df_crime['Category encoded'] = df_crime['Category'].astype('category')\n",
        "df_crime['Category encoded'] = df_crime['Category encoded'].cat.codes\n",
        "df_crime.dtypes, df_crime"
      ],
      "execution_count": 197,
      "outputs": [
        {
          "output_type": "execute_result",
          "data": {
            "text/plain": [
              "(Category             object\n",
              " Street ID             int64\n",
              " Street Name          object\n",
              " Outcome Category     object\n",
              " Outcome Date         object\n",
              " Service              object\n",
              " Location Subtype     object\n",
              " ID                    int64\n",
              " Persistent ID        object\n",
              " Epoch                object\n",
              " Ward Code            object\n",
              " Ward Name            object\n",
              " Easting             float64\n",
              " Northing            float64\n",
              " Longitude           float64\n",
              " Latitude            float64\n",
              " Last Uploaded        object\n",
              " count                 int64\n",
              " Category encoded       int8\n",
              " dtype: object,\n",
              "                             Category  Street ID  ... count Category encoded\n",
              " 0                        Other theft    1489515  ...     1                6\n",
              " 1              Anti-social behaviour     960522  ...     1                0\n",
              " 2              Theft from the person     965233  ...     1               11\n",
              " 3              Anti-social behaviour     960974  ...     1                0\n",
              " 4                              Drugs     972275  ...     1                4\n",
              " ...                              ...        ...  ...   ...              ...\n",
              " 285102         Theft from the person     960590  ...     1               11\n",
              " 285103                 Bicycle theft     965106  ...     1                1\n",
              " 285104         Theft from the person     956623  ...     1               11\n",
              " 285105  Violence and sexual offences    1490576  ...     1               13\n",
              " 285106         Anti-social behaviour     967753  ...     1                0\n",
              " \n",
              " [285107 rows x 19 columns])"
            ]
          },
          "metadata": {
            "tags": []
          },
          "execution_count": 197
        }
      ]
    },
    {
      "cell_type": "code",
      "metadata": {
        "colab": {
          "base_uri": "https://localhost:8080/",
          "height": 415
        },
        "id": "M01774g8ZqjM",
        "outputId": "619f7411-94bd-4a82-aa96-c7bc70d0e60b"
      },
      "source": [
        "d1 = df_crime.drop(['Street ID', 'Street Name', 'Outcome Category', 'Outcome Date', 'Service', 'Location Subtype', 'ID', 'Persistent ID', 'Epoch',   \n",
        " 'Ward Code', 'Ward Name', 'Easting', 'Northing', 'Longitude', 'Latitude', 'Last Uploaded', 'count'], axis =1)\n",
        "d1"
      ],
      "execution_count": 198,
      "outputs": [
        {
          "output_type": "execute_result",
          "data": {
            "text/html": [
              "<div>\n",
              "<style scoped>\n",
              "    .dataframe tbody tr th:only-of-type {\n",
              "        vertical-align: middle;\n",
              "    }\n",
              "\n",
              "    .dataframe tbody tr th {\n",
              "        vertical-align: top;\n",
              "    }\n",
              "\n",
              "    .dataframe thead th {\n",
              "        text-align: right;\n",
              "    }\n",
              "</style>\n",
              "<table border=\"1\" class=\"dataframe\">\n",
              "  <thead>\n",
              "    <tr style=\"text-align: right;\">\n",
              "      <th></th>\n",
              "      <th>Category</th>\n",
              "      <th>Category encoded</th>\n",
              "    </tr>\n",
              "  </thead>\n",
              "  <tbody>\n",
              "    <tr>\n",
              "      <th>0</th>\n",
              "      <td>Other theft</td>\n",
              "      <td>6</td>\n",
              "    </tr>\n",
              "    <tr>\n",
              "      <th>1</th>\n",
              "      <td>Anti-social behaviour</td>\n",
              "      <td>0</td>\n",
              "    </tr>\n",
              "    <tr>\n",
              "      <th>2</th>\n",
              "      <td>Theft from the person</td>\n",
              "      <td>11</td>\n",
              "    </tr>\n",
              "    <tr>\n",
              "      <th>3</th>\n",
              "      <td>Anti-social behaviour</td>\n",
              "      <td>0</td>\n",
              "    </tr>\n",
              "    <tr>\n",
              "      <th>4</th>\n",
              "      <td>Drugs</td>\n",
              "      <td>4</td>\n",
              "    </tr>\n",
              "    <tr>\n",
              "      <th>...</th>\n",
              "      <td>...</td>\n",
              "      <td>...</td>\n",
              "    </tr>\n",
              "    <tr>\n",
              "      <th>285102</th>\n",
              "      <td>Theft from the person</td>\n",
              "      <td>11</td>\n",
              "    </tr>\n",
              "    <tr>\n",
              "      <th>285103</th>\n",
              "      <td>Bicycle theft</td>\n",
              "      <td>1</td>\n",
              "    </tr>\n",
              "    <tr>\n",
              "      <th>285104</th>\n",
              "      <td>Theft from the person</td>\n",
              "      <td>11</td>\n",
              "    </tr>\n",
              "    <tr>\n",
              "      <th>285105</th>\n",
              "      <td>Violence and sexual offences</td>\n",
              "      <td>13</td>\n",
              "    </tr>\n",
              "    <tr>\n",
              "      <th>285106</th>\n",
              "      <td>Anti-social behaviour</td>\n",
              "      <td>0</td>\n",
              "    </tr>\n",
              "  </tbody>\n",
              "</table>\n",
              "<p>285107 rows × 2 columns</p>\n",
              "</div>"
            ],
            "text/plain": [
              "                            Category  Category encoded\n",
              "0                        Other theft                 6\n",
              "1              Anti-social behaviour                 0\n",
              "2              Theft from the person                11\n",
              "3              Anti-social behaviour                 0\n",
              "4                              Drugs                 4\n",
              "...                              ...               ...\n",
              "285102         Theft from the person                11\n",
              "285103                 Bicycle theft                 1\n",
              "285104         Theft from the person                11\n",
              "285105  Violence and sexual offences                13\n",
              "285106         Anti-social behaviour                 0\n",
              "\n",
              "[285107 rows x 2 columns]"
            ]
          },
          "metadata": {
            "tags": []
          },
          "execution_count": 198
        }
      ]
    },
    {
      "cell_type": "code",
      "metadata": {
        "colab": {
          "base_uri": "https://localhost:8080/",
          "height": 297
        },
        "id": "voIDlwGMfyru",
        "outputId": "bc23e3b6-8c09-47f9-c6ac-24e307b4fbb8"
      },
      "source": [
        "#plot of locations of the crimes, colour coded by crime category\n",
        "plt.scatter(df_crime['Longitude'],df_crime['Latitude'], c=df_crime['Category encoded'], s=6,  alpha=0.25)\n",
        "plt.xlabel('Longitude')\n",
        "plt.ylabel('Latitude')"
      ],
      "execution_count": 200,
      "outputs": [
        {
          "output_type": "execute_result",
          "data": {
            "text/plain": [
              "Text(0, 0.5, 'Latitude')"
            ]
          },
          "metadata": {
            "tags": []
          },
          "execution_count": 200
        },
        {
          "output_type": "display_data",
          "data": {
            "image/png": "[encoded data removed]",
            "text/plain": [
              "<Figure size 432x288 with 1 Axes>"
            ]
          },
          "metadata": {
            "tags": [],
            "needs_background": "light"
          }
        }
      ]
    },
    {
      "cell_type": "markdown",
      "metadata": {
        "id": "1LBD8d5wEHtS"
      },
      "source": [
        "# Let's look at ward"
      ]
    },
    {
      "cell_type": "code",
      "metadata": {
        "colab": {
          "base_uri": "https://localhost:8080/"
        },
        "id": "IHgDzBkAfNx4",
        "outputId": "92f6d297-6491-4661-8632-9f9c7d789e2f"
      },
      "source": [
        "#describe the category column\n",
        "df_crime['Ward Name'].describe()"
      ],
      "execution_count": 201,
      "outputs": [
        {
          "output_type": "execute_result",
          "data": {
            "text/plain": [
              "count                        285107\n",
              "unique                           18\n",
              "top       Holborn and Covent Garden\n",
              "freq                          40616\n",
              "Name: Ward Name, dtype: object"
            ]
          },
          "metadata": {
            "tags": []
          },
          "execution_count": 201
        }
      ]
    },
    {
      "cell_type": "code",
      "metadata": {
        "colab": {
          "base_uri": "https://localhost:8080/"
        },
        "id": "IXwWTkFiaVcp",
        "outputId": "e6da9eb9-7806-4c77-f98b-2a6a89080a9d"
      },
      "source": [
        "#get all the unique Wards and the 'size' i.e. number of Wards\n",
        "C = len(df_crime['Ward Name'].unique())\n",
        "C, df_crime['Ward Name'].unique()"
      ],
      "execution_count": 202,
      "outputs": [
        {
          "output_type": "execute_result",
          "data": {
            "text/plain": [
              "(18, array(['St Pancras and Somers Town', 'Swiss Cottage', \"King's Cross\",\n",
              "        'Highgate', 'Camden Town with Primrose Hill', 'Haverstock',\n",
              "        'Frognal and Fitzjohns', 'Belsize', 'Bloomsbury', 'Cantelowes',\n",
              "        'Kilburn', 'Kentish Town', 'West Hampstead', 'Fortune Green',\n",
              "        'Holborn and Covent Garden', \"Regent's Park\", 'Gospel Oak',\n",
              "        'Hampstead Town'], dtype=object))"
            ]
          },
          "metadata": {
            "tags": []
          },
          "execution_count": 202
        }
      ]
    },
    {
      "cell_type": "code",
      "metadata": {
        "colab": {
          "base_uri": "https://localhost:8080/"
        },
        "id": "HCiKVZ97FbZi",
        "outputId": "09beac60-751e-4c95-e316-44703b353b32"
      },
      "source": [
        "#create another category called 'ward encoded' which contains the encoded ward names,\n",
        "df_crime['Ward encoded'] = df_crime['Ward Name'].astype('category')\n",
        "df_crime['Ward encoded'] = df_crime['Ward encoded'].cat.codes\n",
        "df_crime.dtypes, df_crime"
      ],
      "execution_count": 203,
      "outputs": [
        {
          "output_type": "execute_result",
          "data": {
            "text/plain": [
              "(Category             object\n",
              " Street ID             int64\n",
              " Street Name          object\n",
              " Outcome Category     object\n",
              " Outcome Date         object\n",
              " Service              object\n",
              " Location Subtype     object\n",
              " ID                    int64\n",
              " Persistent ID        object\n",
              " Epoch                object\n",
              " Ward Code            object\n",
              " Ward Name            object\n",
              " Easting             float64\n",
              " Northing            float64\n",
              " Longitude           float64\n",
              " Latitude            float64\n",
              " Last Uploaded        object\n",
              " count                 int64\n",
              " Category encoded       int8\n",
              " Ward encoded           int8\n",
              " dtype: object,\n",
              "                             Category  Street ID  ... Category encoded Ward encoded\n",
              " 0                        Other theft    1489515  ...                6           15\n",
              " 1              Anti-social behaviour     960522  ...                0           15\n",
              " 2              Theft from the person     965233  ...               11           16\n",
              " 3              Anti-social behaviour     960974  ...                0           13\n",
              " 4                              Drugs     972275  ...                4            9\n",
              " ...                              ...        ...  ...              ...          ...\n",
              " 285102         Theft from the person     960590  ...               11            1\n",
              " 285103                 Bicycle theft     965106  ...                1            8\n",
              " 285104         Theft from the person     956623  ...               11            1\n",
              " 285105  Violence and sexual offences    1490576  ...               13           10\n",
              " 285106         Anti-social behaviour     967753  ...                0            5\n",
              " \n",
              " [285107 rows x 20 columns])"
            ]
          },
          "metadata": {
            "tags": []
          },
          "execution_count": 203
        }
      ]
    },
    {
      "cell_type": "code",
      "metadata": {
        "colab": {
          "base_uri": "https://localhost:8080/",
          "height": 297
        },
        "id": "7OMD_hbnF62i",
        "outputId": "66bb014f-3271-40be-ea8f-720117154292"
      },
      "source": [
        "#plot of locations of the crimes, colour coded by crime category\n",
        "plt.scatter(df_crime['Longitude'],df_crime['Latitude'], c=df_crime['Ward encoded'], s=6,  alpha=0.25)\n",
        "plt.xlabel('Longitude')\n",
        "plt.ylabel('Latitude')"
      ],
      "execution_count": 204,
      "outputs": [
        {
          "output_type": "execute_result",
          "data": {
            "text/plain": [
              "Text(0, 0.5, 'Latitude')"
            ]
          },
          "metadata": {
            "tags": []
          },
          "execution_count": 204
        },
        {
          "output_type": "display_data",
          "data": {
            "image/png": "[encoded data removed]",
            "text/plain": [
              "<Figure size 432x288 with 1 Axes>"
            ]
          },
          "metadata": {
            "tags": [],
            "needs_background": "light"
          }
        }
      ]
    },
    {
      "cell_type": "code",
      "metadata": {
        "colab": {
          "base_uri": "https://localhost:8080/",
          "height": 631
        },
        "id": "XIcZHUVl6FWc",
        "outputId": "ed1292f3-958e-40fd-8a33-5237bc245aae"
      },
      "source": [
        "total_crimes_byward = df_crime.groupby(['Ward Name']).sum()      #sum 'count' number of crimes by date\n",
        "total_crimes_byward.drop(['Street ID', 'Easting', 'Ward encoded','Northing', 'Category encoded', 'Longitude', 'Latitude', 'ID'], axis=1, inplace=True)     #remove all other columns\n",
        "total_crimes_byward['Ward name'] = total_crimes_byward.index\n",
        "total_crimes_byward"
      ],
      "execution_count": 205,
      "outputs": [
        {
          "output_type": "execute_result",
          "data": {
            "text/html": [
              "<div>\n",
              "<style scoped>\n",
              "    .dataframe tbody tr th:only-of-type {\n",
              "        vertical-align: middle;\n",
              "    }\n",
              "\n",
              "    .dataframe tbody tr th {\n",
              "        vertical-align: top;\n",
              "    }\n",
              "\n",
              "    .dataframe thead th {\n",
              "        text-align: right;\n",
              "    }\n",
              "</style>\n",
              "<table border=\"1\" class=\"dataframe\">\n",
              "  <thead>\n",
              "    <tr style=\"text-align: right;\">\n",
              "      <th></th>\n",
              "      <th>count</th>\n",
              "      <th>Ward name</th>\n",
              "    </tr>\n",
              "    <tr>\n",
              "      <th>Ward Name</th>\n",
              "      <th></th>\n",
              "      <th></th>\n",
              "    </tr>\n",
              "  </thead>\n",
              "  <tbody>\n",
              "    <tr>\n",
              "      <th>Belsize</th>\n",
              "      <td>8108</td>\n",
              "      <td>Belsize</td>\n",
              "    </tr>\n",
              "    <tr>\n",
              "      <th>Bloomsbury</th>\n",
              "      <td>36759</td>\n",
              "      <td>Bloomsbury</td>\n",
              "    </tr>\n",
              "    <tr>\n",
              "      <th>Camden Town with Primrose Hill</th>\n",
              "      <td>30958</td>\n",
              "      <td>Camden Town with Primrose Hill</td>\n",
              "    </tr>\n",
              "    <tr>\n",
              "      <th>Cantelowes</th>\n",
              "      <td>9895</td>\n",
              "      <td>Cantelowes</td>\n",
              "    </tr>\n",
              "    <tr>\n",
              "      <th>Fortune Green</th>\n",
              "      <td>7758</td>\n",
              "      <td>Fortune Green</td>\n",
              "    </tr>\n",
              "    <tr>\n",
              "      <th>Frognal and Fitzjohns</th>\n",
              "      <td>6239</td>\n",
              "      <td>Frognal and Fitzjohns</td>\n",
              "    </tr>\n",
              "    <tr>\n",
              "      <th>Gospel Oak</th>\n",
              "      <td>7725</td>\n",
              "      <td>Gospel Oak</td>\n",
              "    </tr>\n",
              "    <tr>\n",
              "      <th>Hampstead Town</th>\n",
              "      <td>8297</td>\n",
              "      <td>Hampstead Town</td>\n",
              "    </tr>\n",
              "    <tr>\n",
              "      <th>Haverstock</th>\n",
              "      <td>10225</td>\n",
              "      <td>Haverstock</td>\n",
              "    </tr>\n",
              "    <tr>\n",
              "      <th>Highgate</th>\n",
              "      <td>7952</td>\n",
              "      <td>Highgate</td>\n",
              "    </tr>\n",
              "    <tr>\n",
              "      <th>Holborn and Covent Garden</th>\n",
              "      <td>40616</td>\n",
              "      <td>Holborn and Covent Garden</td>\n",
              "    </tr>\n",
              "    <tr>\n",
              "      <th>Kentish Town</th>\n",
              "      <td>13230</td>\n",
              "      <td>Kentish Town</td>\n",
              "    </tr>\n",
              "    <tr>\n",
              "      <th>Kilburn</th>\n",
              "      <td>12637</td>\n",
              "      <td>Kilburn</td>\n",
              "    </tr>\n",
              "    <tr>\n",
              "      <th>King's Cross</th>\n",
              "      <td>19246</td>\n",
              "      <td>King's Cross</td>\n",
              "    </tr>\n",
              "    <tr>\n",
              "      <th>Regent's Park</th>\n",
              "      <td>23510</td>\n",
              "      <td>Regent's Park</td>\n",
              "    </tr>\n",
              "    <tr>\n",
              "      <th>St Pancras and Somers Town</th>\n",
              "      <td>24313</td>\n",
              "      <td>St Pancras and Somers Town</td>\n",
              "    </tr>\n",
              "    <tr>\n",
              "      <th>Swiss Cottage</th>\n",
              "      <td>8207</td>\n",
              "      <td>Swiss Cottage</td>\n",
              "    </tr>\n",
              "    <tr>\n",
              "      <th>West Hampstead</th>\n",
              "      <td>9432</td>\n",
              "      <td>West Hampstead</td>\n",
              "    </tr>\n",
              "  </tbody>\n",
              "</table>\n",
              "</div>"
            ],
            "text/plain": [
              "                                count                       Ward name\n",
              "Ward Name                                                            \n",
              "Belsize                          8108                         Belsize\n",
              "Bloomsbury                      36759                      Bloomsbury\n",
              "Camden Town with Primrose Hill  30958  Camden Town with Primrose Hill\n",
              "Cantelowes                       9895                      Cantelowes\n",
              "Fortune Green                    7758                   Fortune Green\n",
              "Frognal and Fitzjohns            6239           Frognal and Fitzjohns\n",
              "Gospel Oak                       7725                      Gospel Oak\n",
              "Hampstead Town                   8297                  Hampstead Town\n",
              "Haverstock                      10225                      Haverstock\n",
              "Highgate                         7952                        Highgate\n",
              "Holborn and Covent Garden       40616       Holborn and Covent Garden\n",
              "Kentish Town                    13230                    Kentish Town\n",
              "Kilburn                         12637                         Kilburn\n",
              "King's Cross                    19246                    King's Cross\n",
              "Regent's Park                   23510                   Regent's Park\n",
              "St Pancras and Somers Town      24313      St Pancras and Somers Town\n",
              "Swiss Cottage                    8207                   Swiss Cottage\n",
              "West Hampstead                   9432                  West Hampstead"
            ]
          },
          "metadata": {
            "tags": []
          },
          "execution_count": 205
        }
      ]
    },
    {
      "cell_type": "code",
      "metadata": {
        "colab": {
          "base_uri": "https://localhost:8080/",
          "height": 447
        },
        "id": "N6KfAdkt6FWd",
        "outputId": "e78fb97d-d53d-45e1-9890-b465337e2a04"
      },
      "source": [
        "#plot of crime numbers by ward\n",
        "plt.bar(total_crimes_byward['Ward name'],total_crimes_byward['count']) \n",
        "plt.xlabel('Ward name')\n",
        "plt.xticks(rotation=90)\n",
        "plt.ylabel('crime count')"
      ],
      "execution_count": 206,
      "outputs": [
        {
          "output_type": "execute_result",
          "data": {
            "text/plain": [
              "Text(0, 0.5, 'crime count')"
            ]
          },
          "metadata": {
            "tags": []
          },
          "execution_count": 206
        },
        {
          "output_type": "display_data",
          "data": {
            "image/png": "[encoded data removed]",
            "text/plain": [
              "<Figure size 432x288 with 1 Axes>"
            ]
          },
          "metadata": {
            "tags": [],
            "needs_background": "light"
          }
        }
      ]
    },
    {
      "cell_type": "markdown",
      "metadata": {
        "id": "6GSIiLGbL2sx"
      },
      "source": [
        "#Let's look at street name"
      ]
    },
    {
      "cell_type": "code",
      "metadata": {
        "colab": {
          "base_uri": "https://localhost:8080/"
        },
        "id": "s6MGsjxcVNpy",
        "outputId": "63c16774-eade-4b95-c46c-d82f19481a13"
      },
      "source": [
        "#describe the category column\n",
        "df_crime['Street ID'].describe()"
      ],
      "execution_count": 207,
      "outputs": [
        {
          "output_type": "execute_result",
          "data": {
            "text/plain": [
              "count    2.851070e+05\n",
              "mean     9.923078e+05\n",
              "std      1.198085e+05\n",
              "min      5.875900e+05\n",
              "25%      9.607560e+05\n",
              "50%      9.649380e+05\n",
              "75%      9.677150e+05\n",
              "max      1.490652e+06\n",
              "Name: Street ID, dtype: float64"
            ]
          },
          "metadata": {
            "tags": []
          },
          "execution_count": 207
        }
      ]
    },
    {
      "cell_type": "code",
      "metadata": {
        "colab": {
          "base_uri": "https://localhost:8080/"
        },
        "id": "Kd7IBm7aVNp0",
        "outputId": "95b20226-abb6-4975-d368-df38de6ee228"
      },
      "source": [
        "#get all the unique Wards and the 'size' i.e. number of Wards\n",
        "C = len(df_crime['Street ID'].unique())\n",
        "C, df_crime['Street ID'].unique()"
      ],
      "execution_count": 208,
      "outputs": [
        {
          "output_type": "execute_result",
          "data": {
            "text/plain": [
              "(1543, array([1489515,  960522,  965233, ..., 1490647, 1490652,  956138]))"
            ]
          },
          "metadata": {
            "tags": []
          },
          "execution_count": 208
        }
      ]
    },
    {
      "cell_type": "code",
      "metadata": {
        "colab": {
          "base_uri": "https://localhost:8080/",
          "height": 446
        },
        "id": "01E6x3tIT_kJ",
        "outputId": "b4ae4135-46ac-4946-c180-c607cb8cc930"
      },
      "source": [
        "total_crimes_bystreet = df_crime.groupby(['Street ID']).sum()      #sum 'count' number of crimes by date\n",
        "total_crimes_bystreet.drop([ 'Easting', 'Northing', 'Ward encoded', 'Category encoded', 'Longitude', 'Latitude', 'ID'], axis=1, inplace=True)     #remove all other columns\n",
        "total_crimes_bystreet['Street'] = total_crimes_bystreet.index        #create another column for the street ID, called Street\n",
        "total_crimes_bystreet"
      ],
      "execution_count": 209,
      "outputs": [
        {
          "output_type": "execute_result",
          "data": {
            "text/html": [
              "<div>\n",
              "<style scoped>\n",
              "    .dataframe tbody tr th:only-of-type {\n",
              "        vertical-align: middle;\n",
              "    }\n",
              "\n",
              "    .dataframe tbody tr th {\n",
              "        vertical-align: top;\n",
              "    }\n",
              "\n",
              "    .dataframe thead th {\n",
              "        text-align: right;\n",
              "    }\n",
              "</style>\n",
              "<table border=\"1\" class=\"dataframe\">\n",
              "  <thead>\n",
              "    <tr style=\"text-align: right;\">\n",
              "      <th></th>\n",
              "      <th>count</th>\n",
              "      <th>Street</th>\n",
              "    </tr>\n",
              "    <tr>\n",
              "      <th>Street ID</th>\n",
              "      <th></th>\n",
              "      <th></th>\n",
              "    </tr>\n",
              "  </thead>\n",
              "  <tbody>\n",
              "    <tr>\n",
              "      <th>587590</th>\n",
              "      <td>21</td>\n",
              "      <td>587590</td>\n",
              "    </tr>\n",
              "    <tr>\n",
              "      <th>923580</th>\n",
              "      <td>912</td>\n",
              "      <td>923580</td>\n",
              "    </tr>\n",
              "    <tr>\n",
              "      <th>923593</th>\n",
              "      <td>64</td>\n",
              "      <td>923593</td>\n",
              "    </tr>\n",
              "    <tr>\n",
              "      <th>923811</th>\n",
              "      <td>148</td>\n",
              "      <td>923811</td>\n",
              "    </tr>\n",
              "    <tr>\n",
              "      <th>923812</th>\n",
              "      <td>151</td>\n",
              "      <td>923812</td>\n",
              "    </tr>\n",
              "    <tr>\n",
              "      <th>...</th>\n",
              "      <td>...</td>\n",
              "      <td>...</td>\n",
              "    </tr>\n",
              "    <tr>\n",
              "      <th>1490503</th>\n",
              "      <td>29</td>\n",
              "      <td>1490503</td>\n",
              "    </tr>\n",
              "    <tr>\n",
              "      <th>1490555</th>\n",
              "      <td>22</td>\n",
              "      <td>1490555</td>\n",
              "    </tr>\n",
              "    <tr>\n",
              "      <th>1490576</th>\n",
              "      <td>147</td>\n",
              "      <td>1490576</td>\n",
              "    </tr>\n",
              "    <tr>\n",
              "      <th>1490647</th>\n",
              "      <td>41</td>\n",
              "      <td>1490647</td>\n",
              "    </tr>\n",
              "    <tr>\n",
              "      <th>1490652</th>\n",
              "      <td>4</td>\n",
              "      <td>1490652</td>\n",
              "    </tr>\n",
              "  </tbody>\n",
              "</table>\n",
              "<p>1543 rows × 2 columns</p>\n",
              "</div>"
            ],
            "text/plain": [
              "           count   Street\n",
              "Street ID                \n",
              "587590        21   587590\n",
              "923580       912   923580\n",
              "923593        64   923593\n",
              "923811       148   923811\n",
              "923812       151   923812\n",
              "...          ...      ...\n",
              "1490503       29  1490503\n",
              "1490555       22  1490555\n",
              "1490576      147  1490576\n",
              "1490647       41  1490647\n",
              "1490652        4  1490652\n",
              "\n",
              "[1543 rows x 2 columns]"
            ]
          },
          "metadata": {
            "tags": []
          },
          "execution_count": 209
        }
      ]
    },
    {
      "cell_type": "code",
      "metadata": {
        "colab": {
          "base_uri": "https://localhost:8080/",
          "height": 297
        },
        "id": "YpOPNMP5VlQk",
        "outputId": "b67f0390-05cd-4ec2-8290-41f808bf3b1c"
      },
      "source": [
        "#plot of locations of the crimes, colour coded by crime category\n",
        "plt.scatter(total_crimes_bystreet['Street'],total_crimes_bystreet['count']) #, c=df_crime['Ward encoded'], s=6,  alpha=0.25)\n",
        "plt.xlabel('street')\n",
        "plt.ylabel('count')"
      ],
      "execution_count": 210,
      "outputs": [
        {
          "output_type": "execute_result",
          "data": {
            "text/plain": [
              "Text(0, 0.5, 'count')"
            ]
          },
          "metadata": {
            "tags": []
          },
          "execution_count": 210
        },
        {
          "output_type": "display_data",
          "data": {
            "image/png": "[encoded data removed]",
            "text/plain": [
              "<Figure size 432x288 with 1 Axes>"
            ]
          },
          "metadata": {
            "tags": [],
            "needs_background": "light"
          }
        }
      ]
    },
    {
      "cell_type": "markdown",
      "metadata": {
        "id": "moNT_11KUAtD"
      },
      "source": [
        "# PMCC Matrix"
      ]
    },
    {
      "cell_type": "code",
      "metadata": {
        "id": "Q8ueqfOQGpxt"
      },
      "source": [
        "df_cor_matrix = df_crime.drop(['count'], axis=1)"
      ],
      "execution_count": null,
      "outputs": []
    },
    {
      "cell_type": "code",
      "metadata": {
        "id": "nCsRKy3b8niQ"
      },
      "source": [
        "corr_matrix_crime = df_cor_matrix.corr()\n",
        "corr_matrix_crime.style.background_gradient(cmap='coolwarm')"
      ],
      "execution_count": null,
      "outputs": []
    },
    {
      "cell_type": "code",
      "metadata": {
        "id": "rKBJe5Upb9PJ"
      },
      "source": [
        "def softmax(h):\n",
        "  return (np.exp(h.T)/np.sum(np.exp(h), axis=1)).T\n",
        "\n",
        "def cross_entropy(Y,P_hat):\n",
        "  return -(1/len(Y))*np.sum(np.sum(Y*np.log(P_hat),axis=1),axis=0)\n",
        "\n",
        "def accuracy(y,y_hat):\n",
        "  return np.mean(y==y_hat)\n",
        "\n",
        "def indices_to_one_hot(data, nb_classes):\n",
        "  targets = np.array(data).reshape(-1)\n",
        "  targets = targets.astype(int)\n",
        "  return np.eye(nb_classes)[targets]"
      ],
      "execution_count": null,
      "outputs": []
    },
    {
      "cell_type": "code",
      "metadata": {
        "id": "7NCWJMURGtMp"
      },
      "source": [
        "class MVLogisticRegression():\n",
        "\n",
        "  def __init__(self, thresh =0.5):\n",
        "    self.thresh = thresh\n",
        "\n",
        "  def fit(self, X, y, eta=2e-1, epochs = 1e3, show_curve = False):\n",
        "    epochs = int(epochs)\n",
        "    N,D =X.shape\n",
        "    K = len(np.unique(y))\n",
        "    y_values = np.unique(y, return_index=False)\n",
        "    Y = indices_to_one_hot(y-1, K).astype(int)\n",
        "    self.W = np.random.randn(D,K)\n",
        "    self.B = np.random.randn(1,K)\n",
        "    J=np.zeros(int(epochs))\n",
        "\n",
        "    for epoch in range(epochs):\n",
        "      P_hat = self.__forward__(X)\n",
        "      J[epoch] = cross_entropy(Y,P_hat)\n",
        "      self.W -= eta*(1/N)*X.T@(P_hat-Y)\n",
        "      self.B -= eta*(1/N)*np.sum(P_hat-Y,axis=0)\n",
        "\n",
        "    if show_curve:\n",
        "      plt.figure()\n",
        "      plt.plot(J)\n",
        "      plt.xlabel('epochs')\n",
        "      plt.ylabel(\"$\\matchcal{J}\")\n",
        "      plt.title(\"Training Curve\")\n",
        "      plt.show()\n",
        "  \n",
        "  def __forward__(self, X):\n",
        "    return softmax(X@self.W + self.B)\n",
        "  \n",
        "  def predict(self,X):\n",
        "    return np.argmax(self.__forward__(X), axis=1)"
      ],
      "execution_count": null,
      "outputs": []
    }
  ]
}