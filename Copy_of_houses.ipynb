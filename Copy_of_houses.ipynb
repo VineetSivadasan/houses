{
  "nbformat": 4,
  "nbformat_minor": 0,
  "metadata": {
    "colab": {
      "name": "Copy of houses.ipynb",
      "provenance": [],
      "collapsed_sections": [],
      "toc_visible": true,
      "mount_file_id": "1mESfPtaRef4SoKn60fGwZivHrwWBBZ4c",
      "authorship_tag": "ABX9TyPkTXeOTMoxZ32/cxAlYSN6",
      "include_colab_link": true
    },
    "kernelspec": {
      "name": "python3",
      "display_name": "Python 3"
    },
    "language_info": {
      "name": "python"
    }
  },
  "cells": [
    {
      "cell_type": "markdown",
      "metadata": {
        "id": "view-in-github",
        "colab_type": "text"
      },
      "source": [
        "<a href=\"https://colab.research.google.com/github/VineetSivadasan/houses/blob/main/Copy_of_houses.ipynb\" target=\"_parent\"><img src=\"https://colab.research.google.com/assets/colab-badge.svg\" alt=\"Open In Colab\"/></a>"
      ]
    },
    {
      "cell_type": "code",
      "metadata": {
        "id": "kyOPK7psiKwS"
      },
      "source": [
        "import numpy as np\n",
        "import pandas as pd\n",
        "import matplotlib.pyplot as plt\n",
        "from scipy.stats import multivariate_normal as mvn\n",
        "import seaborn as sns\n",
        "\n",
        "\n",
        "houses = pd.read_csv('/content/drive/MyDrive/Colab Notebooks/raw_house_data.csv')\n",
        "houses.head()\n"
      ],
      "execution_count": null,
      "outputs": []
    },
    {
      "cell_type": "markdown",
      "metadata": {
        "id": "fXRbA9ExwYUs"
      },
      "source": [
        "# can already see cells with 'None' values"
      ]
    },
    {
      "cell_type": "code",
      "metadata": {
        "id": "BJgP2yi2QDxI"
      },
      "source": [
        "houses.shape #determine the number of rows and columns of the dataset"
      ],
      "execution_count": null,
      "outputs": []
    },
    {
      "cell_type": "code",
      "metadata": {
        "id": "Z7X1h-TxUJYF"
      },
      "source": [
        "houses.dtypes   #determine what types of data are in the cells"
      ],
      "execution_count": null,
      "outputs": []
    },
    {
      "cell_type": "markdown",
      "metadata": {
        "id": "Yft24kSc7XSf"
      },
      "source": [
        "# bathrooms, sqrt_ft, garage, kitchen_features, fireplaces, floor_Covering, HOA contain character variables\n",
        "# MLS, zipcode, year_built, bedrooms are all integer numeric variables\n",
        "# sold_price, longitude, latitude, lot_acres, taxes are floating point numeric variables"
      ]
    },
    {
      "cell_type": "code",
      "metadata": {
        "id": "SlECPRAas310"
      },
      "source": [
        "houses.dropna(axis=0, how='any', thresh=None, subset=None, inplace=True) #drop rows containing empty values in any column"
      ],
      "execution_count": 169,
      "outputs": []
    },
    {
      "cell_type": "code",
      "metadata": {
        "id": "yvl6MCKoTHnc"
      },
      "source": [
        "houses.shape"
      ],
      "execution_count": null,
      "outputs": []
    },
    {
      "cell_type": "code",
      "metadata": {
        "id": "vmwoN3YqTMJU"
      },
      "source": [
        "houses.dtypes"
      ],
      "execution_count": null,
      "outputs": []
    },
    {
      "cell_type": "code",
      "metadata": {
        "id": "bE5nnkPLT6Rk"
      },
      "source": [
        "houses_cleaned = houses.mask(houses.eq('None')).dropna() #mask function to remove the word 'None' in all cells in any column"
      ],
      "execution_count": 172,
      "outputs": []
    },
    {
      "cell_type": "code",
      "metadata": {
        "id": "TLeCnvtp516r"
      },
      "source": [
        "houses_cleaned.shape"
      ],
      "execution_count": null,
      "outputs": []
    },
    {
      "cell_type": "code",
      "metadata": {
        "id": "t1LdCU03BlfR"
      },
      "source": [
        "compression_opts = dict(method='zip',\n",
        "                        archive_name='out.csv') \n",
        "houses_cleaned.to_csv('out.zip', index=False, compression=compression_opts) #export cleaned dataset as csv"
      ],
      "execution_count": 174,
      "outputs": []
    },
    {
      "cell_type": "code",
      "metadata": {
        "id": "u3LsQK-n58zb"
      },
      "source": [
        "houses_cleaned.head()"
      ],
      "execution_count": null,
      "outputs": []
    },
    {
      "cell_type": "code",
      "metadata": {
        "id": "iIZ0L_voRGKM"
      },
      "source": [
        "houses_cleaned = houses_cleaned.astype({\"bathrooms\":float}) #turn 'bathrooms' from object to float"
      ],
      "execution_count": 176,
      "outputs": []
    },
    {
      "cell_type": "code",
      "metadata": {
        "id": "gOZXQGKyVR2X"
      },
      "source": [
        "houses_cleaned = houses_cleaned.astype({\"sqrt_ft\":float}) #turn 'sqrt_ft' from object to float"
      ],
      "execution_count": 177,
      "outputs": []
    },
    {
      "cell_type": "code",
      "metadata": {
        "id": "GDu_D-KGVeO2"
      },
      "source": [
        "houses_cleaned = houses_cleaned.astype({\"garage\":float}) #turn 'garage' from object to float"
      ],
      "execution_count": 178,
      "outputs": []
    },
    {
      "cell_type": "code",
      "metadata": {
        "id": "9l2g2g3jVkHP"
      },
      "source": [
        "houses_cleaned = houses_cleaned.astype({\"fireplaces\":float}) #turn 'fireplaces' from object to float"
      ],
      "execution_count": 179,
      "outputs": []
    },
    {
      "cell_type": "code",
      "metadata": {
        "id": "gRGCnjmgV03P"
      },
      "source": [
        "houses_cleaned[\"HOA\"] = houses_cleaned[\"HOA\"].str.replace(\",\",\"\").astype(float) #remove the comma's from numbers in HOA column\n"
      ],
      "execution_count": 180,
      "outputs": []
    },
    {
      "cell_type": "code",
      "metadata": {
        "id": "Ag7uJqSFUVi6"
      },
      "source": [
        "houses_cleaned.dtypes #confirm datatypes for bathrooms, sqrt_ft, garage, firplaces and HOA have been converted into float variables"
      ],
      "execution_count": null,
      "outputs": []
    },
    {
      "cell_type": "code",
      "metadata": {
        "id": "SEfEReaJfnXI"
      },
      "source": [
        "sns.pairplot(houses_cleaned, kind=\"scatter\") #plot values for each of the 14 column numerical variables against eachother"
      ],
      "execution_count": null,
      "outputs": []
    },
    {
      "cell_type": "code",
      "metadata": {
        "colab": {
          "base_uri": "https://localhost:8080/"
        },
        "id": "eNEQQuvc5KA6",
        "outputId": "af1ac9fb-6853-483b-c982-efcb6535d2bb"
      },
      "source": [
        "houses_cleaned.shape"
      ],
      "execution_count": 183,
      "outputs": [
        {
          "output_type": "execute_result",
          "data": {
            "text/plain": [
              "(4370, 16)"
            ]
          },
          "metadata": {
            "tags": []
          },
          "execution_count": 183
        }
      ]
    },
    {
      "cell_type": "code",
      "metadata": {
        "id": "jmbZU1ZdGf4o"
      },
      "source": [
        "ax = sns.relplot(x='bedrooms', y='sold_price', data=houses_cleaned)\n",
        "ax.set(xlabel='no. of bedrooms', ylabel='sold price (x1,000,000)')\n",
        "plt.show()"
      ],
      "execution_count": null,
      "outputs": []
    },
    {
      "cell_type": "code",
      "metadata": {
        "id": "t3L9lc61Ie-j"
      },
      "source": [
        "ax = sns.relplot(x='bathrooms', y='sold_price', data=houses_cleaned)\n",
        "ax.set(xlabel='no. of bathrooms', ylabel='sold price (x1,000,000)')\n",
        "plt.show()\n",
        "\n"
      ],
      "execution_count": null,
      "outputs": []
    },
    {
      "cell_type": "code",
      "metadata": {
        "id": "o-w9Re7qKDAe"
      },
      "source": [
        "ax=sns.relplot(data=houses_cleaned, x='sqrt_ft', y='sold_price')\n",
        "ax.set(xlabel='square foot area', ylabel ='sold price (x1,000,000)')\n",
        "plt.show()"
      ],
      "execution_count": null,
      "outputs": []
    },
    {
      "cell_type": "code",
      "metadata": {
        "id": "3Z4CjiEc2kC8"
      },
      "source": [
        "ax=sns.relplot(data=houses_cleaned, x='zipcode', y='sold_price')\n",
        "ax.set(xlabel='zipcode', ylabel ='sold price (x1,000,000)')\n",
        "plt.show()"
      ],
      "execution_count": null,
      "outputs": []
    },
    {
      "cell_type": "code",
      "metadata": {
        "id": "bUgHnpOvb8od"
      },
      "source": [
        "ax=sns.relplot(data=houses_cleaned, x='lot_acres', y='sold_price')\n",
        "ax.set(xlabel='lot_acres', ylabel ='sold price (x1,000,000)')\n",
        "plt.show()"
      ],
      "execution_count": null,
      "outputs": []
    },
    {
      "cell_type": "code",
      "metadata": {
        "id": "hC5GmnDxeUTe"
      },
      "source": [
        "ax=sns.relplot(data=houses_cleaned, x='bathrooms', y='sqrt_ft')\n",
        "ax.set(xlabel='no of bathrooms', ylabel ='sqrt_ft')\n",
        "plt.show()"
      ],
      "execution_count": null,
      "outputs": []
    }
  ]
}