{
  "nbformat": 4,
  "nbformat_minor": 0,
  "metadata": {
    "colab": {
      "name": "Multivariate Logistic Regression Cirrhosis.ipynb",
      "provenance": [],
      "collapsed_sections": [],
      "mount_file_id": "1nuEKU4uIcAPbiuAVm64IZE-Rxpekm4b0",
      "authorship_tag": "ABX9TyMWowaW+Dr7stHQPqGAW4pX",
      "include_colab_link": true
    },
    "kernelspec": {
      "name": "python3",
      "display_name": "Python 3"
    },
    "language_info": {
      "name": "python"
    }
  },
  "cells": [
    {
      "cell_type": "markdown",
      "metadata": {
        "id": "view-in-github",
        "colab_type": "text"
      },
      "source": [
        "<a href=\"https://colab.research.google.com/github/VineetSivadasan/houses/blob/main/Multivariate_Logistic_Regression_Cirrhosis.ipynb\" target=\"_parent\"><img src=\"https://colab.research.google.com/assets/colab-badge.svg\" alt=\"Open In Colab\"/></a>"
      ]
    },
    {
      "cell_type": "code",
      "metadata": {
        "id": "NOXEV-HUV7Yb"
      },
      "source": [
        "import numpy as np\n",
        "import pandas as pd\n",
        "import matplotlib.pyplot as plt\n",
        "\n",
        "from matplotlib.colors import ListedColormap\n",
        "dfCirrhosis = pd.read_csv('/content/drive/MyDrive/Colab Notebooks/Cirrhosis.csv')\n",
        "print(dfCirrhosis)"
      ],
      "execution_count": null,
      "outputs": []
    },
    {
      "cell_type": "code",
      "metadata": {
        "id": "ng_jupExgh8a"
      },
      "source": [
        "#checking to see if there are NaN values in any cell\n",
        "checking_NaN = dfCirrhosis.isnull().values.any() \n",
        "checking_NaN"
      ],
      "execution_count": null,
      "outputs": []
    },
    {
      "cell_type": "code",
      "metadata": {
        "id": "XIvf0J8-grur"
      },
      "source": [
        "#print the rows where NaN values appear in the cells\n",
        "print_NaN_rows = dfCirrhosis[dfCirrhosis.isnull().any(axis=1)]  \n",
        "print_NaN_rows.shape"
      ],
      "execution_count": null,
      "outputs": []
    },
    {
      "cell_type": "code",
      "metadata": {
        "id": "Jbxa9I5XgzI1"
      },
      "source": [
        "dfCirrhosis.dropna(axis=0, how='any', thresh=None, subset=None, inplace=True)"
      ],
      "execution_count": null,
      "outputs": []
    },
    {
      "cell_type": "code",
      "metadata": {
        "id": "7qke6AGdi7qG"
      },
      "source": [
        "dfCirrhosis.shape"
      ],
      "execution_count": null,
      "outputs": []
    },
    {
      "cell_type": "code",
      "metadata": {
        "id": "wsgKpoxfhjfK"
      },
      "source": [
        "corr_matrix = dfCirrhosis.corr()\n",
        "corr_matrix.style.background_gradient(cmap='coolwarm')"
      ],
      "execution_count": null,
      "outputs": []
    },
    {
      "cell_type": "code",
      "metadata": {
        "id": "ElKHoyYMkWYH"
      },
      "source": [
        "del dfCirrhosis[\"bilirubin\"]"
      ],
      "execution_count": null,
      "outputs": []
    },
    {
      "cell_type": "code",
      "metadata": {
        "id": "9WZfezu6krSJ"
      },
      "source": [
        "del dfCirrhosis[\"status\"]"
      ],
      "execution_count": null,
      "outputs": []
    },
    {
      "cell_type": "code",
      "metadata": {
        "id": "XU9ne89TmLFS"
      },
      "source": [
        "del dfCirrhosis[\"index\"]"
      ],
      "execution_count": null,
      "outputs": []
    },
    {
      "cell_type": "code",
      "metadata": {
        "id": "l7rDlH4JwIdv"
      },
      "source": [
        "del dfCirrhosis[\"edema\"]"
      ],
      "execution_count": null,
      "outputs": []
    },
    {
      "cell_type": "code",
      "metadata": {
        "id": "8povjtbRxjMh"
      },
      "source": [
        "del dfCirrhosis[\"ascites\"]"
      ],
      "execution_count": null,
      "outputs": []
    },
    {
      "cell_type": "code",
      "metadata": {
        "id": "aH0AtZPQk2ql"
      },
      "source": [
        "dfCirrhosis"
      ],
      "execution_count": null,
      "outputs": []
    },
    {
      "cell_type": "code",
      "metadata": {
        "id": "6FVHfbK0KWf5"
      },
      "source": [
        "dfCirrhosis[\"duration\"] = (dfCirrhosis[\"duration\"]-dfCirrhosis[\"duration\"].min())/(dfCirrhosis[\"duration\"].max()-dfCirrhosis[\"duration\"].min())\n",
        "dfCirrhosis[\"drug\"] = (dfCirrhosis[\"drug\"]-dfCirrhosis[\"drug\"].min())/(dfCirrhosis[\"drug\"].max()-dfCirrhosis[\"drug\"].min())\n",
        "dfCirrhosis[\"age\"] = (dfCirrhosis[\"age\"]-dfCirrhosis[\"age\"].min())/(dfCirrhosis[\"age\"].max()-dfCirrhosis[\"age\"].min())\n",
        "dfCirrhosis[\"sex\"] = (dfCirrhosis[\"sex\"]-dfCirrhosis[\"sex\"].min())/(dfCirrhosis[\"sex\"].max()-dfCirrhosis[\"sex\"].min())\n",
        "#dfCirrhosis[\"ascites\"] = (dfCirrhosis[\"ascites\"]-dfCirrhosis[\"ascites\"].min())/(dfCirrhosis[\"ascites\"].max()-dfCirrhosis[\"ascites\"].min())\n",
        "dfCirrhosis[\"hepatomology\"] = (dfCirrhosis[\"hepatomology\"]-dfCirrhosis[\"hepatomology\"].min())/(dfCirrhosis[\"hepatomology\"].max()-dfCirrhosis[\"hepatomology\"].min())\n",
        "dfCirrhosis[\"spiders\"] = (dfCirrhosis[\"spiders\"]-dfCirrhosis[\"spiders\"].min())/(dfCirrhosis[\"spiders\"].max()-dfCirrhosis[\"spiders\"].min())\n",
        "#dfCirrhosis[\"edema\"] = (dfCirrhosis[\"edema\"]-dfCirrhosis[\"edema\"].min())/(dfCirrhosis[\"edema\"].max()-dfCirrhosis[\"edema\"].min())\n",
        "dfCirrhosis[\"cholesterol\"] = (dfCirrhosis[\"cholesterol\"]-dfCirrhosis[\"cholesterol\"].min())/(dfCirrhosis[\"cholesterol\"].max()-dfCirrhosis[\"cholesterol\"].min())\n",
        "dfCirrhosis[\"albumin\"] = (dfCirrhosis[\"albumin\"]-dfCirrhosis[\"albumin\"].min())/(dfCirrhosis[\"albumin\"].max()-dfCirrhosis[\"albumin\"].min())\n",
        "dfCirrhosis[\"copper\"] = (dfCirrhosis[\"copper\"]-dfCirrhosis[\"copper\"].min())/(dfCirrhosis[\"copper\"].max()-dfCirrhosis[\"copper\"].min())\n",
        "dfCirrhosis[\"phosphatase\"] = (dfCirrhosis[\"phosphatase\"]-dfCirrhosis[\"phosphatase\"].min())/(dfCirrhosis[\"phosphatase\"].max()-dfCirrhosis[\"phosphatase\"].min())\n",
        "dfCirrhosis[\"SGOT\"] = (dfCirrhosis[\"SGOT\"]-dfCirrhosis[\"SGOT\"].min())/(dfCirrhosis[\"SGOT\"].max()-dfCirrhosis[\"SGOT\"].min())\n",
        "dfCirrhosis[\"triglicerides\"] = (dfCirrhosis[\"triglicerides\"]-dfCirrhosis[\"triglicerides\"].min())/(dfCirrhosis[\"triglicerides\"].max()-dfCirrhosis[\"triglicerides\"].min())\n",
        "dfCirrhosis[\"platelets\"] = (dfCirrhosis[\"platelets\"]-dfCirrhosis[\"platelets\"].min())/(dfCirrhosis[\"platelets\"].max()-dfCirrhosis[\"platelets\"].min())\n",
        "dfCirrhosis[\"prothrombin\"] = (dfCirrhosis[\"prothrombin\"]-dfCirrhosis[\"prothrombin\"].min())/(dfCirrhosis[\"prothrombin\"].max()-dfCirrhosis[\"prothrombin\"].min())"
      ],
      "execution_count": null,
      "outputs": []
    },
    {
      "cell_type": "code",
      "metadata": {
        "id": "ukvb00tYjYKd"
      },
      "source": [
        "dfCirrhosis"
      ],
      "execution_count": null,
      "outputs": []
    },
    {
      "cell_type": "code",
      "metadata": {
        "id": "635jj_zVIi8k"
      },
      "source": [
        "corr_matrix = dfCirrhosis.corr()\n",
        "corr_matrix.style.background_gradient(cmap='coolwarm')"
      ],
      "execution_count": null,
      "outputs": []
    },
    {
      "cell_type": "code",
      "metadata": {
        "id": "IKAjbR96cX9L"
      },
      "source": [
        "# constructing training, validation and test sets\n",
        "def data_train_validate_test(df, training_set_percent=0.8, validation_set_percent=0.1, seed=None):\n",
        "  np.random.seed(seed)  #set a random seed number such that the same index sampled here is repeated \n",
        "  permutation = np.random.permutation(df.index)  #random selection of the dataframe index\n",
        "  print(permutation)\n",
        "  length = len(df.index)  #size of index of dataset\n",
        "  #print(length)\n",
        "  training_set_end = int(training_set_percent * length)  #size of the training set\n",
        "  print(training_set_end)\n",
        "  validation_set_end = int(validation_set_percent * length) + training_set_end  #size of the validation set + training set\n",
        "  print(validation_set_end)\n",
        "  training = df.loc[permutation[:training_set_end]] #select random rows up to the size of the training set to form the training dataset\n",
        "  validation = df.loc[permutation[training_set_end:validation_set_end]] #select random rows up to the size of validation set to form the validation dataset\n",
        "  test = df.loc[permutation[validation_set_end:]] #The remaining rows from the validation set onwards to the end will be the test dataset\n",
        "  return training, validation, test"
      ],
      "execution_count": null,
      "outputs": []
    },
    {
      "cell_type": "code",
      "metadata": {
        "id": "tAUxz6eVcp8g"
      },
      "source": [
        "training, validation, test = data_train_validate_test(dfCirrhosis)\n"
      ],
      "execution_count": null,
      "outputs": []
    },
    {
      "cell_type": "code",
      "metadata": {
        "id": "9a8UU6I1hv_Q"
      },
      "source": [
        "cmap_bold = ListedColormap([\"#FF0000\",\"#0000FF\"])\n",
        "cmap_light = ListedColormap([\"#FFBBBB\",\"#BBBBFF\"])"
      ],
      "execution_count": null,
      "outputs": []
    },
    {
      "cell_type": "code",
      "metadata": {
        "id": "GPw6SlS7dIBA"
      },
      "source": [
        "training.shape, validation.shape, test.shape"
      ],
      "execution_count": null,
      "outputs": []
    },
    {
      "cell_type": "code",
      "metadata": {
        "id": "y3y5gNlxDfw_"
      },
      "source": [
        "def softmax(h):\n",
        "  return (np.exp(h.T)/np.sum(np.exp(h), axis=1)).T\n",
        "\n",
        "def cross_entropy(Y,P_hat):\n",
        "  return -(1/len(Y))*np.sum(np.sum(Y*np.log(P_hat),axis=1),axis=0)\n",
        "\n",
        "def accuracy(y,y_hat):\n",
        "  return np.mean(y==y_hat)\n",
        "\n",
        "def indices_to_one_hot(data, nb_classes):\n",
        "  targets = np.array(data).reshape(-1)\n",
        "  targets = targets.astype(int)\n",
        "  return np.eye(nb_classes)[targets]"
      ],
      "execution_count": null,
      "outputs": []
    },
    {
      "cell_type": "code",
      "metadata": {
        "id": "g7cM3aL8DiR0"
      },
      "source": [
        "class MVLogisticRegression():\n",
        "\n",
        "  def __init__(self, thresh =0.5):\n",
        "    self.thresh = thresh\n",
        "\n",
        "  def fit(self, X, y, eta=2e-1, epochs = 1e3, show_curve = False):\n",
        "    epochs = int(epochs)\n",
        "    N,D =X.shape\n",
        "    K = len(np.unique(y))\n",
        "    y_values = np.unique(y, return_index=False)\n",
        "    Y = indices_to_one_hot(y-1, K).astype(int)\n",
        "    self.W = np.random.randn(D,K)\n",
        "    self.B = np.random.randn(1,K)\n",
        "    J=np.zeros(int(epochs))\n",
        "\n",
        "    for epoch in range(epochs):\n",
        "      P_hat = self.__forward__(X)\n",
        "      J[epoch] = cross_entropy(Y,P_hat)\n",
        "      self.W -= eta*(1/N)*X.T@(P_hat-Y)\n",
        "      self.B -= eta*(1/N)*np.sum(P_hat-Y,axis=0)\n",
        "\n",
        "    if show_curve:\n",
        "      plt.figure()\n",
        "      plt.plot(J)\n",
        "      plt.xlabel('epochs')\n",
        "      plt.ylabel(\"$\\matchcal{J}\")\n",
        "      plt.title(\"Training Curve\")\n",
        "      plt.show()\n",
        "  \n",
        "  def __forward__(self, X):\n",
        "    return softmax(X@self.W + self.B)\n",
        "  \n",
        "  def predict(self,X):\n",
        "    return np.argmax(self.__forward__(X), axis=1)\n"
      ],
      "execution_count": null,
      "outputs": []
    },
    {
      "cell_type": "code",
      "metadata": {
        "id": "FXbUIq9FthA7"
      },
      "source": [
        "training"
      ],
      "execution_count": null,
      "outputs": []
    },
    {
      "cell_type": "code",
      "metadata": {
        "id": "DvaZMCIIEBqy"
      },
      "source": [
        "y_training = training['stage'].to_numpy()\n",
        "X_training = training[['duration', 'drug',\t'age',\t'sex',\t'hepatomology',\t'spiders',\t'cholesterol',\t'albumin',\t'copper',\t'phosphatase',\t'SGOT',\t'triglicerides',\t'platelets',\t'prothrombin']].to_numpy()"
      ],
      "execution_count": null,
      "outputs": []
    },
    {
      "cell_type": "code",
      "metadata": {
        "id": "rmJASxVFs1OI"
      },
      "source": [
        "X_training"
      ],
      "execution_count": null,
      "outputs": []
    },
    {
      "cell_type": "code",
      "metadata": {
        "id": "O88aOPy-uCTN"
      },
      "source": [
        "y_training"
      ],
      "execution_count": null,
      "outputs": []
    },
    {
      "cell_type": "code",
      "metadata": {
        "id": "6R4K1kb_Pg5h"
      },
      "source": [
        "logreg = MVLogisticRegression()"
      ],
      "execution_count": null,
      "outputs": []
    },
    {
      "cell_type": "code",
      "metadata": {
        "id": "wnG2CYm1PjlX"
      },
      "source": [
        "logreg.fit(X_training, y_training, eta=7e-3, epochs =3e3, show_curve=True)\n",
        "y_hat = logreg.predict(X_training)\n",
        "print(f\"Training Accuracy: {accuracy(y_training, y_hat):0.4f}\")"
      ],
      "execution_count": null,
      "outputs": []
    },
    {
      "cell_type": "code",
      "metadata": {
        "id": "cFNSv29dRRXR"
      },
      "source": [
        "    plt.figure()\n",
        "    plt.scatter(X_training[:,4], X_training[:,7], c = y_training, alpha = 200)\n",
        "    plt.xlabel(\"hepatomology and albumin\")\n",
        "    plt.ylabel(\"stage probability\")\n",
        "    plt.show()"
      ],
      "execution_count": null,
      "outputs": []
    },
    {
      "cell_type": "code",
      "metadata": {
        "id": "oeHUf6bPzVZB"
      },
      "source": [
        "y_validation = validation['stage'].to_numpy()\n",
        "X_validation = validation[['duration', 'drug',\t'age',\t'sex',\t'hepatomology',\t'spiders',\t'cholesterol',\t'albumin',\t'copper',\t'phosphatase',\t'SGOT',\t'triglicerides',\t'platelets',\t'prothrombin']].to_numpy()"
      ],
      "execution_count": null,
      "outputs": []
    },
    {
      "cell_type": "code",
      "metadata": {
        "id": "YmOu1EByz7w7"
      },
      "source": [
        "y_hat_validation = logreg.predict(X_validation)\n",
        "print(f\"validation Accuracy: {accuracy(y_validation, y_hat_validation):0.4f}\")"
      ],
      "execution_count": null,
      "outputs": []
    },
    {
      "cell_type": "code",
      "metadata": {
        "id": "s1otRMlQ0TsM"
      },
      "source": [
        "    plt.figure()\n",
        "    plt.scatter(X_validation[:,4], X_validation[:,7], c = y_validation, alpha = 200)\n",
        "    plt.xlabel(\"hepatomology and albumin\")\n",
        "    plt.ylabel(\"stage probability\")\n",
        "    plt.show()"
      ],
      "execution_count": null,
      "outputs": []
    },
    {
      "cell_type": "code",
      "metadata": {
        "id": "JN7mYCWX0cnV"
      },
      "source": [
        "y_test = test['stage'].to_numpy()\n",
        "X_test = test[['duration', 'drug',\t'age',\t'sex',\t'hepatomology',\t'spiders',\t'cholesterol',\t'albumin',\t'copper',\t'phosphatase',\t'SGOT',\t'triglicerides',\t'platelets',\t'prothrombin']].to_numpy()"
      ],
      "execution_count": null,
      "outputs": []
    },
    {
      "cell_type": "code",
      "metadata": {
        "id": "_ufqIg_y1jSs"
      },
      "source": [
        "y_hat_test = logreg.predict(X_test)\n",
        "print(f\"Test Accuracy: {accuracy(y_test, y_hat_test):0.4f}\")"
      ],
      "execution_count": null,
      "outputs": []
    },
    {
      "cell_type": "code",
      "metadata": {
        "id": "5ompOefx1w8K"
      },
      "source": [
        "    plt.figure()\n",
        "    plt.scatter(X_test[:,4], X_test[:,7], c = y_test, alpha = 200)\n",
        "    plt.xlabel(\"hepatomology and albumin\")\n",
        "    plt.ylabel(\"stage probability\")\n",
        "    plt.show()"
      ],
      "execution_count": null,
      "outputs": []
    }
  ]
}